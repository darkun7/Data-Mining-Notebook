{
  "nbformat": 4,
  "nbformat_minor": 0,
  "metadata": {
    "colab": {
      "name": "Modul 6-Hartawan.ipynb",
      "provenance": [],
      "collapsed_sections": [
        "pcjURB1m5uo3"
      ],
      "mount_file_id": "1DkVLZ-VxaQTxG74BpSKa4YMhu20MOxxS",
      "authorship_tag": "ABX9TyPZXZN43HYWYarabXB0bdf2",
      "include_colab_link": true
    },
    "kernelspec": {
      "name": "python3",
      "display_name": "Python 3"
    },
    "language_info": {
      "name": "python"
    }
  },
  "cells": [
    {
      "cell_type": "markdown",
      "metadata": {
        "id": "view-in-github",
        "colab_type": "text"
      },
      "source": [
        "<a href=\"https://colab.research.google.com/github/darkun7/Data-Mining-Notebook/blob/main/Modul%206-Hartawan.ipynb\" target=\"_parent\"><img src=\"https://colab.research.google.com/assets/colab-badge.svg\" alt=\"Open In Colab\"/></a>"
      ]
    },
    {
      "cell_type": "markdown",
      "metadata": {
        "id": "pkomt4OAF64l"
      },
      "source": [
        "# Module 6 Praktikum Data Mining\n",
        "## K Means Clustering\n",
        "* Hartawan Bahari Mulyadi\n",
        "* Student ID: 182410101113\n"
      ]
    },
    {
      "cell_type": "code",
      "metadata": {
        "colab": {
          "base_uri": "https://localhost:8080/"
        },
        "id": "DvU2cGhbFxxz",
        "outputId": "68a26af0-84c4-498f-b189-58204e2189c0"
      },
      "source": [
        "#@title Initial Import\n",
        "# Init Library\n",
        "from sklearn.cluster import KMeans\n",
        "import pandas as pd\n",
        "from sklearn.preprocessing import MinMaxScaler\n",
        "from matplotlib import pyplot as plt\n",
        "%matplotlib inline\n",
        "\n",
        "from google.colab import drive\n",
        "from google.colab import auth\n",
        "from pydrive.auth import GoogleAuth\n",
        "from pydrive.drive import GoogleDrive\n",
        "from oauth2client.client import GoogleCredentials\n",
        "import sys\n",
        "\n",
        "sys.path.append('/content/gdrive/MyDrive/Tugas/datmin')\n",
        "drive.mount('/content/gdrive')\n",
        "\n",
        "from Darkun7 import pretty_print as ptag\n",
        "from Darkun7 import stream\n",
        "\n",
        "auth.authenticate_user() #googlecolab\n",
        "gauth = GoogleAuth()     #pydrive\n",
        "gauth.credentials = GoogleCredentials.get_application_default()\n",
        "drive = GoogleDrive(gauth)"
      ],
      "execution_count": 1,
      "outputs": [
        {
          "output_type": "stream",
          "text": [
            "Mounted at /content/gdrive\n"
          ],
          "name": "stdout"
        }
      ]
    },
    {
      "cell_type": "code",
      "metadata": {
        "colab": {
          "base_uri": "https://localhost:8080/"
        },
        "id": "mGUnhmshN05m",
        "outputId": "447706b1-286f-467e-a0ed-7d4057db604b"
      },
      "source": [
        "stream.file(drive, '1ifZ1UE5KWG3d1JV_olpeLpTQKrd9Cnx1', 'income.csv')"
      ],
      "execution_count": 2,
      "outputs": [
        {
          "output_type": "stream",
          "text": [
            "GoogleDriveFile({'id': '1ifZ1UE5KWG3d1JV_olpeLpTQKrd9Cnx1', 'kind': 'drive#file', 'etag': '\"MTYxODI5NTE2NjU3Mg\"', 'selfLink': 'https://www.googleapis.com/drive/v2/files/1ifZ1UE5KWG3d1JV_olpeLpTQKrd9Cnx1', 'webContentLink': 'https://drive.google.com/uc?id=1ifZ1UE5KWG3d1JV_olpeLpTQKrd9Cnx1&export=download', 'alternateLink': 'https://drive.google.com/file/d/1ifZ1UE5KWG3d1JV_olpeLpTQKrd9Cnx1/view?usp=drivesdk', 'embedLink': 'https://drive.google.com/file/d/1ifZ1UE5KWG3d1JV_olpeLpTQKrd9Cnx1/preview?usp=drivesdk', 'iconLink': 'https://drive-thirdparty.googleusercontent.com/16/type/text/csv', 'title': 'income.csv', 'mimeType': 'text/csv', 'labels': {'starred': False, 'hidden': False, 'trashed': False, 'restricted': False, 'viewed': True}, 'copyRequiresWriterPermission': False, 'createdDate': '2021-04-13T06:25:46.259Z', 'modifiedDate': '2021-04-13T06:26:06.572Z', 'modifiedByMeDate': '2021-04-13T06:26:06.572Z', 'lastViewedByMeDate': '2021-04-13T06:25:46.259Z', 'markedViewedByMeDate': '1970-01-01T00:00:00.000Z', 'version': '3', 'parents': [{'kind': 'drive#parentReference', 'id': '1h1zYHEUWLb52zeuUcIBr1DIzVQcuinQD', 'selfLink': 'https://www.googleapis.com/drive/v2/files/1ifZ1UE5KWG3d1JV_olpeLpTQKrd9Cnx1/parents/1h1zYHEUWLb52zeuUcIBr1DIzVQcuinQD', 'parentLink': 'https://www.googleapis.com/drive/v2/files/1h1zYHEUWLb52zeuUcIBr1DIzVQcuinQD', 'isRoot': False}], 'downloadUrl': 'https://www.googleapis.com/drive/v2/files/1ifZ1UE5KWG3d1JV_olpeLpTQKrd9Cnx1?alt=media&source=downloadUrl', 'userPermission': {'kind': 'drive#permission', 'etag': '\"kmH_U0y7UGIZolZY5Y1HbPqAANY\"', 'id': 'me', 'selfLink': 'https://www.googleapis.com/drive/v2/files/1ifZ1UE5KWG3d1JV_olpeLpTQKrd9Cnx1/permissions/me', 'role': 'owner', 'type': 'user'}, 'originalFilename': 'm07 5-11apr p modul 6 income (1).csv', 'fileExtension': 'csv', 'md5Checksum': '7e97f4de83320ce308f1369514babea1', 'fileSize': '363', 'quotaBytesUsed': '363', 'ownerNames': ['HARTAWAN BAHARI MULYADI'], 'owners': [{'kind': 'drive#user', 'displayName': 'HARTAWAN BAHARI MULYADI', 'picture': {'url': 'https://lh3.googleusercontent.com/a-/AOh14GigxFeZSPdps-xvjTRv1T6OljdcM3rEI7W-RNSk=s64'}, 'isAuthenticatedUser': True, 'permissionId': '15703877291029635176', 'emailAddress': '182410101113@students.unej.ac.id'}], 'lastModifyingUserName': 'HARTAWAN BAHARI MULYADI', 'lastModifyingUser': {'kind': 'drive#user', 'displayName': 'HARTAWAN BAHARI MULYADI', 'picture': {'url': 'https://lh3.googleusercontent.com/a-/AOh14GigxFeZSPdps-xvjTRv1T6OljdcM3rEI7W-RNSk=s64'}, 'isAuthenticatedUser': True, 'permissionId': '15703877291029635176', 'emailAddress': '182410101113@students.unej.ac.id'}, 'capabilities': {'canCopy': True, 'canEdit': True}, 'editable': True, 'copyable': True, 'writersCanShare': True, 'shared': True, 'explicitlyTrashed': False, 'appDataContents': False, 'headRevisionId': '0B9QUqBxTLB3wZFdMOXNheVR4T3liUW5QMCsrRE9sY0Y1eVNjPQ', 'spaces': ['drive']})\n"
          ],
          "name": "stdout"
        }
      ]
    },
    {
      "cell_type": "markdown",
      "metadata": {
        "id": "pcjURB1m5uo3"
      },
      "source": [
        "# Kode 1"
      ]
    },
    {
      "cell_type": "code",
      "metadata": {
        "colab": {
          "base_uri": "https://localhost:8080/",
          "height": 0
        },
        "id": "3dQggjzc610g",
        "outputId": "4cb29ca4-43a4-4edc-c87f-0cc6ad688955"
      },
      "source": [
        "df = pd.read_csv(\"income.csv\")\n",
        "df.head()"
      ],
      "execution_count": 3,
      "outputs": [
        {
          "output_type": "execute_result",
          "data": {
            "text/html": [
              "<div>\n",
              "<style scoped>\n",
              "    .dataframe tbody tr th:only-of-type {\n",
              "        vertical-align: middle;\n",
              "    }\n",
              "\n",
              "    .dataframe tbody tr th {\n",
              "        vertical-align: top;\n",
              "    }\n",
              "\n",
              "    .dataframe thead th {\n",
              "        text-align: right;\n",
              "    }\n",
              "</style>\n",
              "<table border=\"1\" class=\"dataframe\">\n",
              "  <thead>\n",
              "    <tr style=\"text-align: right;\">\n",
              "      <th></th>\n",
              "      <th>Name</th>\n",
              "      <th>Age</th>\n",
              "      <th>Income($)</th>\n",
              "    </tr>\n",
              "  </thead>\n",
              "  <tbody>\n",
              "    <tr>\n",
              "      <th>0</th>\n",
              "      <td>Rob</td>\n",
              "      <td>27</td>\n",
              "      <td>70000</td>\n",
              "    </tr>\n",
              "    <tr>\n",
              "      <th>1</th>\n",
              "      <td>Michael</td>\n",
              "      <td>29</td>\n",
              "      <td>90000</td>\n",
              "    </tr>\n",
              "    <tr>\n",
              "      <th>2</th>\n",
              "      <td>Mohan</td>\n",
              "      <td>29</td>\n",
              "      <td>61000</td>\n",
              "    </tr>\n",
              "    <tr>\n",
              "      <th>3</th>\n",
              "      <td>Ismail</td>\n",
              "      <td>28</td>\n",
              "      <td>60000</td>\n",
              "    </tr>\n",
              "    <tr>\n",
              "      <th>4</th>\n",
              "      <td>Kory</td>\n",
              "      <td>42</td>\n",
              "      <td>150000</td>\n",
              "    </tr>\n",
              "  </tbody>\n",
              "</table>\n",
              "</div>"
            ],
            "text/plain": [
              "      Name  Age  Income($)\n",
              "0      Rob   27      70000\n",
              "1  Michael   29      90000\n",
              "2    Mohan   29      61000\n",
              "3   Ismail   28      60000\n",
              "4     Kory   42     150000"
            ]
          },
          "metadata": {
            "tags": []
          },
          "execution_count": 3
        }
      ]
    },
    {
      "cell_type": "code",
      "metadata": {
        "colab": {
          "base_uri": "https://localhost:8080/",
          "height": 0
        },
        "id": "xj7E374R67KX",
        "outputId": "b7a4fc75-318a-4186-9d6c-c144d382380b"
      },
      "source": [
        "plt.scatter(df.Age,df['Income($)'])\n",
        "plt.xlabel('Age')\n",
        "plt.ylabel('Income($)')"
      ],
      "execution_count": 4,
      "outputs": [
        {
          "output_type": "execute_result",
          "data": {
            "text/plain": [
              "Text(0, 0.5, 'Income($)')"
            ]
          },
          "metadata": {
            "tags": []
          },
          "execution_count": 4
        },
        {
          "output_type": "display_data",
          "data": {
            "image/png": "[encoded data removed]",
            "text/plain": [
              "<Figure size 432x288 with 1 Axes>"
            ]
          },
          "metadata": {
            "tags": [],
            "needs_background": "light"
          }
        }
      ]
    },
    {
      "cell_type": "code",
      "metadata": {
        "colab": {
          "base_uri": "https://localhost:8080/"
        },
        "id": "7G9bBpbq69yW",
        "outputId": "22746694-f0e0-480f-91c2-10e33f34c36b"
      },
      "source": [
        "km = KMeans(n_clusters=3)\n",
        "y_predicted = km.fit_predict(df[['Age','Income($)']])\n",
        "y_predicted"
      ],
      "execution_count": 5,
      "outputs": [
        {
          "output_type": "execute_result",
          "data": {
            "text/plain": [
              "array([2, 2, 0, 0, 1, 1, 1, 1, 1, 1, 1, 0, 0, 0, 0, 0, 0, 0, 0, 2, 2, 0],\n",
              "      dtype=int32)"
            ]
          },
          "metadata": {
            "tags": []
          },
          "execution_count": 5
        }
      ]
    },
    {
      "cell_type": "code",
      "metadata": {
        "colab": {
          "base_uri": "https://localhost:8080/"
        },
        "id": "XOQfolZG6_Kf",
        "outputId": "80538961-5061-4166-ae37-4e06bfa57755"
      },
      "source": [
        "df['cluster']=y_predicted\n",
        "df.head()\n",
        "km.cluster_centers_"
      ],
      "execution_count": 6,
      "outputs": [
        {
          "output_type": "execute_result",
          "data": {
            "text/plain": [
              "array([[3.29090909e+01, 5.61363636e+04],\n",
              "       [3.82857143e+01, 1.50000000e+05],\n",
              "       [3.40000000e+01, 8.05000000e+04]])"
            ]
          },
          "metadata": {
            "tags": []
          },
          "execution_count": 6
        }
      ]
    },
    {
      "cell_type": "code",
      "metadata": {
        "colab": {
          "base_uri": "https://localhost:8080/",
          "height": 0
        },
        "id": "bYYVSI1Q7AlP",
        "outputId": "a2ff4b54-7e40-4e50-dbc6-05c7834b3d17"
      },
      "source": [
        "df1 = df[df.cluster==0]\n",
        "df2 = df[df.cluster==1]\n",
        "df3 = df[df.cluster==2]\n",
        "plt.scatter(df1.Age,df1['Income($)'],color='green')\n",
        "plt.scatter(df2.Age,df2['Income($)'],color='red')\n",
        "plt.scatter(df3.Age,df3['Income($)'],color='black')\n",
        "plt.scatter(km.cluster_centers_[:,0],km.cluster_centers_[:,1],color='purple',marker='*',label='centroid')\n",
        "plt.xlabel('Age')\n",
        "plt.ylabel('Income ($)')\n",
        "plt.legend()"
      ],
      "execution_count": 7,
      "outputs": [
        {
          "output_type": "execute_result",
          "data": {
            "text/plain": [
              "<matplotlib.legend.Legend at 0x7fc41d23b6d0>"
            ]
          },
          "metadata": {
            "tags": []
          },
          "execution_count": 7
        },
        {
          "output_type": "display_data",
          "data": {
            "image/png": "[encoded data removed]",
            "text/plain": [
              "<Figure size 432x288 with 1 Axes>"
            ]
          },
          "metadata": {
            "tags": [],
            "needs_background": "light"
          }
        }
      ]
    },
    {
      "cell_type": "code",
      "metadata": {
        "colab": {
          "base_uri": "https://localhost:8080/",
          "height": 0
        },
        "id": "VQfnbcgT7GKH",
        "outputId": "7580808d-eb91-4514-e65e-abf1d1fc0686"
      },
      "source": [
        "scaler = MinMaxScaler()\n",
        "scaler.fit(df[['Income($)']])\n",
        "df['Income($)'] = scaler.transform(df[['Income($)']])\n",
        "\n",
        "scaler.fit(df[['Age']])\n",
        "df['Age'] = scaler.transform(df[['Age']])\n",
        "df.head()"
      ],
      "execution_count": 8,
      "outputs": [
        {
          "output_type": "execute_result",
          "data": {
            "text/html": [
              "<div>\n",
              "<style scoped>\n",
              "    .dataframe tbody tr th:only-of-type {\n",
              "        vertical-align: middle;\n",
              "    }\n",
              "\n",
              "    .dataframe tbody tr th {\n",
              "        vertical-align: top;\n",
              "    }\n",
              "\n",
              "    .dataframe thead th {\n",
              "        text-align: right;\n",
              "    }\n",
              "</style>\n",
              "<table border=\"1\" class=\"dataframe\">\n",
              "  <thead>\n",
              "    <tr style=\"text-align: right;\">\n",
              "      <th></th>\n",
              "      <th>Name</th>\n",
              "      <th>Age</th>\n",
              "      <th>Income($)</th>\n",
              "      <th>cluster</th>\n",
              "    </tr>\n",
              "  </thead>\n",
              "  <tbody>\n",
              "    <tr>\n",
              "      <th>0</th>\n",
              "      <td>Rob</td>\n",
              "      <td>0.058824</td>\n",
              "      <td>0.213675</td>\n",
              "      <td>2</td>\n",
              "    </tr>\n",
              "    <tr>\n",
              "      <th>1</th>\n",
              "      <td>Michael</td>\n",
              "      <td>0.176471</td>\n",
              "      <td>0.384615</td>\n",
              "      <td>2</td>\n",
              "    </tr>\n",
              "    <tr>\n",
              "      <th>2</th>\n",
              "      <td>Mohan</td>\n",
              "      <td>0.176471</td>\n",
              "      <td>0.136752</td>\n",
              "      <td>0</td>\n",
              "    </tr>\n",
              "    <tr>\n",
              "      <th>3</th>\n",
              "      <td>Ismail</td>\n",
              "      <td>0.117647</td>\n",
              "      <td>0.128205</td>\n",
              "      <td>0</td>\n",
              "    </tr>\n",
              "    <tr>\n",
              "      <th>4</th>\n",
              "      <td>Kory</td>\n",
              "      <td>0.941176</td>\n",
              "      <td>0.897436</td>\n",
              "      <td>1</td>\n",
              "    </tr>\n",
              "  </tbody>\n",
              "</table>\n",
              "</div>"
            ],
            "text/plain": [
              "      Name       Age  Income($)  cluster\n",
              "0      Rob  0.058824   0.213675        2\n",
              "1  Michael  0.176471   0.384615        2\n",
              "2    Mohan  0.176471   0.136752        0\n",
              "3   Ismail  0.117647   0.128205        0\n",
              "4     Kory  0.941176   0.897436        1"
            ]
          },
          "metadata": {
            "tags": []
          },
          "execution_count": 8
        }
      ]
    },
    {
      "cell_type": "code",
      "metadata": {
        "colab": {
          "base_uri": "https://localhost:8080/"
        },
        "id": "YKsE6MEX7JiP",
        "outputId": "2721a0fc-ff94-487a-85a4-683d41634d45"
      },
      "source": [
        "km = KMeans(n_clusters=3)\n",
        "y_predicted = km.fit_predict(df[['Age','Income($)']])\n",
        "y_predicted"
      ],
      "execution_count": 9,
      "outputs": [
        {
          "output_type": "execute_result",
          "data": {
            "text/plain": [
              "array([1, 1, 1, 1, 0, 0, 0, 0, 0, 0, 0, 1, 1, 1, 1, 1, 2, 2, 2, 2, 2, 2],\n",
              "      dtype=int32)"
            ]
          },
          "metadata": {
            "tags": []
          },
          "execution_count": 9
        }
      ]
    },
    {
      "cell_type": "code",
      "metadata": {
        "colab": {
          "base_uri": "https://localhost:8080/",
          "height": 0
        },
        "id": "BSNUnOIR7M9I",
        "outputId": "52c55a28-fe73-4af0-88b8-2facdb0cd7e7"
      },
      "source": [
        "df['cluster']=y_predicted\n",
        "df.head()"
      ],
      "execution_count": 10,
      "outputs": [
        {
          "output_type": "execute_result",
          "data": {
            "text/html": [
              "<div>\n",
              "<style scoped>\n",
              "    .dataframe tbody tr th:only-of-type {\n",
              "        vertical-align: middle;\n",
              "    }\n",
              "\n",
              "    .dataframe tbody tr th {\n",
              "        vertical-align: top;\n",
              "    }\n",
              "\n",
              "    .dataframe thead th {\n",
              "        text-align: right;\n",
              "    }\n",
              "</style>\n",
              "<table border=\"1\" class=\"dataframe\">\n",
              "  <thead>\n",
              "    <tr style=\"text-align: right;\">\n",
              "      <th></th>\n",
              "      <th>Name</th>\n",
              "      <th>Age</th>\n",
              "      <th>Income($)</th>\n",
              "      <th>cluster</th>\n",
              "    </tr>\n",
              "  </thead>\n",
              "  <tbody>\n",
              "    <tr>\n",
              "      <th>0</th>\n",
              "      <td>Rob</td>\n",
              "      <td>0.058824</td>\n",
              "      <td>0.213675</td>\n",
              "      <td>1</td>\n",
              "    </tr>\n",
              "    <tr>\n",
              "      <th>1</th>\n",
              "      <td>Michael</td>\n",
              "      <td>0.176471</td>\n",
              "      <td>0.384615</td>\n",
              "      <td>1</td>\n",
              "    </tr>\n",
              "    <tr>\n",
              "      <th>2</th>\n",
              "      <td>Mohan</td>\n",
              "      <td>0.176471</td>\n",
              "      <td>0.136752</td>\n",
              "      <td>1</td>\n",
              "    </tr>\n",
              "    <tr>\n",
              "      <th>3</th>\n",
              "      <td>Ismail</td>\n",
              "      <td>0.117647</td>\n",
              "      <td>0.128205</td>\n",
              "      <td>1</td>\n",
              "    </tr>\n",
              "    <tr>\n",
              "      <th>4</th>\n",
              "      <td>Kory</td>\n",
              "      <td>0.941176</td>\n",
              "      <td>0.897436</td>\n",
              "      <td>0</td>\n",
              "    </tr>\n",
              "  </tbody>\n",
              "</table>\n",
              "</div>"
            ],
            "text/plain": [
              "      Name       Age  Income($)  cluster\n",
              "0      Rob  0.058824   0.213675        1\n",
              "1  Michael  0.176471   0.384615        1\n",
              "2    Mohan  0.176471   0.136752        1\n",
              "3   Ismail  0.117647   0.128205        1\n",
              "4     Kory  0.941176   0.897436        0"
            ]
          },
          "metadata": {
            "tags": []
          },
          "execution_count": 10
        }
      ]
    },
    {
      "cell_type": "code",
      "metadata": {
        "colab": {
          "base_uri": "https://localhost:8080/",
          "height": 0
        },
        "id": "uSDGs8U57OMA",
        "outputId": "3c3eb6a9-2cdf-47c2-9bdf-ae942b2a60bb"
      },
      "source": [
        "df1 = df[df.cluster==0]\n",
        "df2 = df[df.cluster==1]\n",
        "df3 = df[df.cluster==2]\n",
        "plt.scatter(df1.Age,df1['Income($)'],color='green')\n",
        "plt.scatter(df2.Age,df2['Income($)'],color='red')\n",
        "plt.scatter(df3.Age,df3['Income($)'],color='black')\n",
        "plt.scatter(km.cluster_centers_[:,0],km.cluster_centers_[:,1],color='purple',marker='*',label='centroid')\n",
        "plt.legend()"
      ],
      "execution_count": 11,
      "outputs": [
        {
          "output_type": "execute_result",
          "data": {
            "text/plain": [
              "<matplotlib.legend.Legend at 0x7fc41d1be6d0>"
            ]
          },
          "metadata": {
            "tags": []
          },
          "execution_count": 11
        },
        {
          "output_type": "display_data",
          "data": {
            "image/png": "[encoded data removed]",
            "text/plain": [
              "<Figure size 432x288 with 1 Axes>"
            ]
          },
          "metadata": {
            "tags": [],
            "needs_background": "light"
          }
        }
      ]
    },
    {
      "cell_type": "markdown",
      "metadata": {
        "id": "uZ2IudEE4QHK"
      },
      "source": [
        "# TUGAS"
      ]
    },
    {
      "cell_type": "markdown",
      "metadata": {
        "id": "jEf77ilkgAyB"
      },
      "source": [
        "tugas\n",
        "lakukan clustering pada dataset iris. Langkah langkah\n",
        "1. normalisasikan dataset iris menggunakan normalisasi minmax\n",
        "2. tampilkan scatter plot sebelum clustering\n",
        "3. clusterlah dataset iris dengan nilai K 2, 3, 4\n",
        "4. tampilkan scatter plot setelah clustering\n",
        "5. analisalah perbandingan scatter plot sebelum clustering dan setelah clustering\n",
        "6. tentukan manakah k terbaik jika dilakukan analisa secara visual\n",
        "\n",
        "tugas no 1 – 6 dilakukan terhadap kombinasi attribut \n",
        "* **sepal length ~sepal width**\n",
        "* **sepal length ~petal width**\n",
        "* **sepal width ~petal width**\n",
        "* **petal length ~petal width**\n"
      ]
    },
    {
      "cell_type": "code",
      "metadata": {
        "colab": {
          "base_uri": "https://localhost:8080/",
          "height": 236
        },
        "id": "cim_3kz2-aES",
        "outputId": "d9c63bc4-665a-472f-94c5-ef75d5a85ad3"
      },
      "source": [
        "stream.file(drive, '1wOMtUMDl3QkOIQPBuuivG3DBHmNoC7PX', 'iris.csv')\n",
        "df_iris = pd.read_csv(\"iris.csv\")\n",
        "df_iris.head()"
      ],
      "execution_count": 12,
      "outputs": [
        {
          "output_type": "stream",
          "text": [
            "GoogleDriveFile({'id': '1wOMtUMDl3QkOIQPBuuivG3DBHmNoC7PX', 'kind': 'drive#file', 'etag': '\"MTYxNjI4MDQwOTgxMg\"', 'selfLink': 'https://www.googleapis.com/drive/v2/files/1wOMtUMDl3QkOIQPBuuivG3DBHmNoC7PX', 'webContentLink': 'https://drive.google.com/uc?id=1wOMtUMDl3QkOIQPBuuivG3DBHmNoC7PX&export=download', 'alternateLink': 'https://drive.google.com/file/d/1wOMtUMDl3QkOIQPBuuivG3DBHmNoC7PX/view?usp=drivesdk', 'embedLink': 'https://drive.google.com/file/d/1wOMtUMDl3QkOIQPBuuivG3DBHmNoC7PX/preview?usp=drivesdk', 'iconLink': 'https://drive-thirdparty.googleusercontent.com/16/type/text/csv', 'title': 'iris.csv', 'mimeType': 'text/csv', 'labels': {'starred': False, 'hidden': False, 'trashed': False, 'restricted': False, 'viewed': True}, 'copyRequiresWriterPermission': False, 'createdDate': '2021-03-20T22:46:49.812Z', 'modifiedDate': '2021-03-20T22:46:49.812Z', 'modifiedByMeDate': '2021-03-20T22:46:49.812Z', 'lastViewedByMeDate': '2021-03-21T00:24:33.127Z', 'markedViewedByMeDate': '1970-01-01T00:00:00.000Z', 'version': '4', 'parents': [{'kind': 'drive#parentReference', 'id': '1DMCng9JBcfNaDHylsoGwqY3RPxBsY9U8', 'selfLink': 'https://www.googleapis.com/drive/v2/files/1wOMtUMDl3QkOIQPBuuivG3DBHmNoC7PX/parents/1DMCng9JBcfNaDHylsoGwqY3RPxBsY9U8', 'parentLink': 'https://www.googleapis.com/drive/v2/files/1DMCng9JBcfNaDHylsoGwqY3RPxBsY9U8', 'isRoot': False}], 'downloadUrl': 'https://www.googleapis.com/drive/v2/files/1wOMtUMDl3QkOIQPBuuivG3DBHmNoC7PX?alt=media&source=downloadUrl', 'userPermission': {'kind': 'drive#permission', 'etag': '\"PzT7UlKSk1UpeW5YW8gXkYOmTHE\"', 'id': 'me', 'selfLink': 'https://www.googleapis.com/drive/v2/files/1wOMtUMDl3QkOIQPBuuivG3DBHmNoC7PX/permissions/me', 'role': 'owner', 'type': 'user'}, 'originalFilename': 'iris.csv', 'fileExtension': 'csv', 'md5Checksum': '341a3b5244f213282b7b0920b729c592', 'fileSize': '3975', 'quotaBytesUsed': '3975', 'ownerNames': ['HARTAWAN BAHARI MULYADI'], 'owners': [{'kind': 'drive#user', 'displayName': 'HARTAWAN BAHARI MULYADI', 'picture': {'url': 'https://lh3.googleusercontent.com/a-/AOh14GigxFeZSPdps-xvjTRv1T6OljdcM3rEI7W-RNSk=s64'}, 'isAuthenticatedUser': True, 'permissionId': '15703877291029635176', 'emailAddress': '182410101113@students.unej.ac.id'}], 'lastModifyingUserName': 'HARTAWAN BAHARI MULYADI', 'lastModifyingUser': {'kind': 'drive#user', 'displayName': 'HARTAWAN BAHARI MULYADI', 'picture': {'url': 'https://lh3.googleusercontent.com/a-/AOh14GigxFeZSPdps-xvjTRv1T6OljdcM3rEI7W-RNSk=s64'}, 'isAuthenticatedUser': True, 'permissionId': '15703877291029635176', 'emailAddress': '182410101113@students.unej.ac.id'}, 'capabilities': {'canCopy': True, 'canEdit': True}, 'editable': True, 'copyable': True, 'writersCanShare': True, 'shared': False, 'explicitlyTrashed': False, 'appDataContents': False, 'headRevisionId': '0B9QUqBxTLB3wdXFvMjJzTTV3UmxqL2VOQ1h2NTRaY2MvcUljPQ', 'spaces': ['drive']})\n"
          ],
          "name": "stdout"
        },
        {
          "output_type": "execute_result",
          "data": {
            "text/html": [
              "<div>\n",
              "<style scoped>\n",
              "    .dataframe tbody tr th:only-of-type {\n",
              "        vertical-align: middle;\n",
              "    }\n",
              "\n",
              "    .dataframe tbody tr th {\n",
              "        vertical-align: top;\n",
              "    }\n",
              "\n",
              "    .dataframe thead th {\n",
              "        text-align: right;\n",
              "    }\n",
              "</style>\n",
              "<table border=\"1\" class=\"dataframe\">\n",
              "  <thead>\n",
              "    <tr style=\"text-align: right;\">\n",
              "      <th></th>\n",
              "      <th>sepal.length</th>\n",
              "      <th>sepal.width</th>\n",
              "      <th>petal.length</th>\n",
              "      <th>petal.width</th>\n",
              "      <th>variety</th>\n",
              "    </tr>\n",
              "  </thead>\n",
              "  <tbody>\n",
              "    <tr>\n",
              "      <th>0</th>\n",
              "      <td>5.1</td>\n",
              "      <td>3.5</td>\n",
              "      <td>1.4</td>\n",
              "      <td>0.2</td>\n",
              "      <td>Setosa</td>\n",
              "    </tr>\n",
              "    <tr>\n",
              "      <th>1</th>\n",
              "      <td>4.9</td>\n",
              "      <td>3.0</td>\n",
              "      <td>1.4</td>\n",
              "      <td>0.2</td>\n",
              "      <td>Setosa</td>\n",
              "    </tr>\n",
              "    <tr>\n",
              "      <th>2</th>\n",
              "      <td>4.7</td>\n",
              "      <td>3.2</td>\n",
              "      <td>1.3</td>\n",
              "      <td>0.2</td>\n",
              "      <td>Setosa</td>\n",
              "    </tr>\n",
              "    <tr>\n",
              "      <th>3</th>\n",
              "      <td>4.6</td>\n",
              "      <td>3.1</td>\n",
              "      <td>1.5</td>\n",
              "      <td>0.2</td>\n",
              "      <td>Setosa</td>\n",
              "    </tr>\n",
              "    <tr>\n",
              "      <th>4</th>\n",
              "      <td>5.0</td>\n",
              "      <td>3.6</td>\n",
              "      <td>1.4</td>\n",
              "      <td>0.2</td>\n",
              "      <td>Setosa</td>\n",
              "    </tr>\n",
              "  </tbody>\n",
              "</table>\n",
              "</div>"
            ],
            "text/plain": [
              "   sepal.length  sepal.width  petal.length  petal.width variety\n",
              "0           5.1          3.5           1.4          0.2  Setosa\n",
              "1           4.9          3.0           1.4          0.2  Setosa\n",
              "2           4.7          3.2           1.3          0.2  Setosa\n",
              "3           4.6          3.1           1.5          0.2  Setosa\n",
              "4           5.0          3.6           1.4          0.2  Setosa"
            ]
          },
          "metadata": {
            "tags": []
          },
          "execution_count": 12
        }
      ]
    },
    {
      "cell_type": "markdown",
      "metadata": {
        "id": "39gtNY4KPtlP"
      },
      "source": [
        "### sepal length ~sepal width"
      ]
    },
    {
      "cell_type": "code",
      "metadata": {
        "colab": {
          "base_uri": "https://localhost:8080/",
          "height": 407
        },
        "id": "yhU8JZRi_lyj",
        "outputId": "ad154f61-c68c-4f8e-ec1d-be3be986676d"
      },
      "source": [
        "# sepal length ~sepal width\n",
        "df_slsw = df_iris[[\"sepal.length\",\"sepal.width\"]]\n",
        "df_slsw"
      ],
      "execution_count": 13,
      "outputs": [
        {
          "output_type": "execute_result",
          "data": {
            "text/html": [
              "<div>\n",
              "<style scoped>\n",
              "    .dataframe tbody tr th:only-of-type {\n",
              "        vertical-align: middle;\n",
              "    }\n",
              "\n",
              "    .dataframe tbody tr th {\n",
              "        vertical-align: top;\n",
              "    }\n",
              "\n",
              "    .dataframe thead th {\n",
              "        text-align: right;\n",
              "    }\n",
              "</style>\n",
              "<table border=\"1\" class=\"dataframe\">\n",
              "  <thead>\n",
              "    <tr style=\"text-align: right;\">\n",
              "      <th></th>\n",
              "      <th>sepal.length</th>\n",
              "      <th>sepal.width</th>\n",
              "    </tr>\n",
              "  </thead>\n",
              "  <tbody>\n",
              "    <tr>\n",
              "      <th>0</th>\n",
              "      <td>5.1</td>\n",
              "      <td>3.5</td>\n",
              "    </tr>\n",
              "    <tr>\n",
              "      <th>1</th>\n",
              "      <td>4.9</td>\n",
              "      <td>3.0</td>\n",
              "    </tr>\n",
              "    <tr>\n",
              "      <th>2</th>\n",
              "      <td>4.7</td>\n",
              "      <td>3.2</td>\n",
              "    </tr>\n",
              "    <tr>\n",
              "      <th>3</th>\n",
              "      <td>4.6</td>\n",
              "      <td>3.1</td>\n",
              "    </tr>\n",
              "    <tr>\n",
              "      <th>4</th>\n",
              "      <td>5.0</td>\n",
              "      <td>3.6</td>\n",
              "    </tr>\n",
              "    <tr>\n",
              "      <th>...</th>\n",
              "      <td>...</td>\n",
              "      <td>...</td>\n",
              "    </tr>\n",
              "    <tr>\n",
              "      <th>145</th>\n",
              "      <td>6.7</td>\n",
              "      <td>3.0</td>\n",
              "    </tr>\n",
              "    <tr>\n",
              "      <th>146</th>\n",
              "      <td>6.3</td>\n",
              "      <td>2.5</td>\n",
              "    </tr>\n",
              "    <tr>\n",
              "      <th>147</th>\n",
              "      <td>6.5</td>\n",
              "      <td>3.0</td>\n",
              "    </tr>\n",
              "    <tr>\n",
              "      <th>148</th>\n",
              "      <td>6.2</td>\n",
              "      <td>3.4</td>\n",
              "    </tr>\n",
              "    <tr>\n",
              "      <th>149</th>\n",
              "      <td>5.9</td>\n",
              "      <td>3.0</td>\n",
              "    </tr>\n",
              "  </tbody>\n",
              "</table>\n",
              "<p>150 rows × 2 columns</p>\n",
              "</div>"
            ],
            "text/plain": [
              "     sepal.length  sepal.width\n",
              "0             5.1          3.5\n",
              "1             4.9          3.0\n",
              "2             4.7          3.2\n",
              "3             4.6          3.1\n",
              "4             5.0          3.6\n",
              "..            ...          ...\n",
              "145           6.7          3.0\n",
              "146           6.3          2.5\n",
              "147           6.5          3.0\n",
              "148           6.2          3.4\n",
              "149           5.9          3.0\n",
              "\n",
              "[150 rows x 2 columns]"
            ]
          },
          "metadata": {
            "tags": []
          },
          "execution_count": 13
        }
      ]
    },
    {
      "cell_type": "code",
      "metadata": {
        "id": "94E2pwPB8LnJ"
      },
      "source": [
        "def normalizationMinMax(df, features):\n",
        "  scaler = MinMaxScaler()\n",
        "  for feature in features:\n",
        "    scaler.fit(df[[feature]])\n",
        "    df[feature] = scaler.transform(df[[feature]])\n",
        "  print(df)\n",
        "  return df"
      ],
      "execution_count": 14,
      "outputs": []
    },
    {
      "cell_type": "code",
      "metadata": {
        "colab": {
          "base_uri": "https://localhost:8080/"
        },
        "id": "jdY29XKfAHhN",
        "outputId": "042a3504-d84d-4172-9daa-b6d2c5715de0"
      },
      "source": [
        "# 1. normalisasikan dataset iris menggunakan normalisasi minmax\n",
        "df_slsw = normalizationMinMax(df_iris, [\"sepal.length\",\"sepal.width\"])"
      ],
      "execution_count": 15,
      "outputs": [
        {
          "output_type": "stream",
          "text": [
            "     sepal.length  sepal.width  petal.length  petal.width    variety\n",
            "0        0.222222     0.625000           1.4          0.2     Setosa\n",
            "1        0.166667     0.416667           1.4          0.2     Setosa\n",
            "2        0.111111     0.500000           1.3          0.2     Setosa\n",
            "3        0.083333     0.458333           1.5          0.2     Setosa\n",
            "4        0.194444     0.666667           1.4          0.2     Setosa\n",
            "..            ...          ...           ...          ...        ...\n",
            "145      0.666667     0.416667           5.2          2.3  Virginica\n",
            "146      0.555556     0.208333           5.0          1.9  Virginica\n",
            "147      0.611111     0.416667           5.2          2.0  Virginica\n",
            "148      0.527778     0.583333           5.4          2.3  Virginica\n",
            "149      0.444444     0.416667           5.1          1.8  Virginica\n",
            "\n",
            "[150 rows x 5 columns]\n"
          ],
          "name": "stdout"
        }
      ]
    },
    {
      "cell_type": "code",
      "metadata": {
        "colab": {
          "base_uri": "https://localhost:8080/",
          "height": 297
        },
        "id": "3sSrTp0iDYdb",
        "outputId": "cbc21b1b-ee4b-4e6d-ca12-e9ce8652090b"
      },
      "source": [
        "# 2. tampilkan scatter plot sebelum clustering\n",
        "plt.scatter(df_slsw[['sepal.length']],df_slsw['sepal.width'])\n",
        "plt.xlabel('sepal.length')\n",
        "plt.ylabel('sepal.width')"
      ],
      "execution_count": 16,
      "outputs": [
        {
          "output_type": "execute_result",
          "data": {
            "text/plain": [
              "Text(0, 0.5, 'sepal.width')"
            ]
          },
          "metadata": {
            "tags": []
          },
          "execution_count": 16
        },
        {
          "output_type": "display_data",
          "data": {
            "image/png": "[encoded data removed]",
            "text/plain": [
              "<Figure size 432x288 with 1 Axes>"
            ]
          },
          "metadata": {
            "tags": [],
            "needs_background": "light"
          }
        }
      ]
    },
    {
      "cell_type": "code",
      "metadata": {
        "colab": {
          "base_uri": "https://localhost:8080/"
        },
        "id": "e6qkfjlYED-L",
        "outputId": "68a0b49f-2e1b-48c7-92ca-22f456842236"
      },
      "source": [
        "# 3.clusterlah dataset iris dengan nilai K 2, 3, 4\n",
        "km2 = KMeans(n_clusters=2)\n",
        "y_predicted2 = km2.fit_predict(df_slsw[['sepal.length','sepal.width']])\n",
        "y_predicted2\n",
        "\n",
        "km3 = KMeans(n_clusters=3)\n",
        "y_predicted3 = km3.fit_predict(df_slsw[['sepal.length','sepal.width']])\n",
        "y_predicted3\n",
        "\n",
        "km4 = KMeans(n_clusters=4)\n",
        "y_predicted4 = km4.fit_predict(df_slsw[['sepal.length','sepal.width']])\n",
        "y_predicted4\n",
        "\n",
        "ptag.sep(\"Clustered\")"
      ],
      "execution_count": 17,
      "outputs": [
        {
          "output_type": "stream",
          "text": [
            "==============[Clustered]===============\n"
          ],
          "name": "stdout"
        }
      ]
    },
    {
      "cell_type": "code",
      "metadata": {
        "colab": {
          "base_uri": "https://localhost:8080/",
          "height": 610
        },
        "id": "SS3X6C30EkPV",
        "outputId": "dccbf31f-c4f0-4b26-ff5b-9adebb2278a7"
      },
      "source": [
        "# 4.tampilkan scatter plot setelah clustering\n",
        "colors = ['#003f5c', '#bc5090', '#ff6361', '#ffa600'] #blue, purple, orange, yellow\n",
        "fig, axs = plt.subplots(2, 2, figsize=(10, 10))\n",
        "\n",
        "def showCluster(df,kmeans,y_var, n_cluster, features,pos):\n",
        "  df['cluster']=y_var #new column named as cluster\n",
        "  for _ in range(n_cluster):\n",
        "    show = df[ df.cluster==_ ]\n",
        "    axs[pos[0],pos[1]].scatter(show[ features[0] ],show[ features[1] ],color=colors[_], label=\"Cluster\"+str(_+1))\n",
        "  axs[pos[0],pos[1]].scatter(kmeans.cluster_centers_[:,0],kmeans.cluster_centers_[:,1],color='red',\n",
        "              marker='*',s=120, ec=\"black\",lw='.8',label='centroid')\n",
        "  axs[pos[0],pos[1]].legend()\n",
        "\n",
        "showCluster(df_slsw,km2, y_predicted2, 2, ['sepal.length', 'sepal.width'],[0,0])\n",
        "showCluster(df_slsw,km3, y_predicted3, 3, ['sepal.length', 'sepal.width'],[0,1])\n",
        "showCluster(df_slsw,km4, y_predicted4, 4, ['sepal.length', 'sepal.width'],[1,0])\n",
        "#unclustered\n",
        "axs[1,1].scatter(df_slsw[['sepal.length']],df_slsw['sepal.width'])"
      ],
      "execution_count": 18,
      "outputs": [
        {
          "output_type": "execute_result",
          "data": {
            "text/plain": [
              "<matplotlib.collections.PathCollection at 0x7fc41d197490>"
            ]
          },
          "metadata": {
            "tags": []
          },
          "execution_count": 18
        },
        {
          "output_type": "display_data",
          "data": {
            "image/png": "[encoded data removed]",
            "text/plain": [
              "<Figure size 720x720 with 4 Axes>"
            ]
          },
          "metadata": {
            "tags": [],
            "needs_background": "light"
          }
        }
      ]
    },
    {
      "cell_type": "code",
      "metadata": {
        "id": "AZqGS7O-GSCE"
      },
      "source": [
        "# 5.analisalah perbandingan scatter plot sebelum clustering dan setelah clustering\n",
        "#....> The cluster is distributed, but we its might be better to remove some data that too far from centroid (outliers). In term of clustering,\n",
        "#      The data around (0,2) x and (0,2) y to (0,0) x, (0,0) y changes, based on centroid position.\n",
        "# 6.tentukan manakah k terbaik jika dilakukan analisa secara visual\n",
        "#....> cluster 3 with merge at cluster 2&3 (orange-purp)"
      ],
      "execution_count": null,
      "outputs": []
    },
    {
      "cell_type": "markdown",
      "metadata": {
        "id": "eKr4OzODPrYI"
      },
      "source": [
        "### sepal length ~petal width"
      ]
    },
    {
      "cell_type": "code",
      "metadata": {
        "colab": {
          "base_uri": "https://localhost:8080/",
          "height": 552
        },
        "id": "tt3DDFnWPjxY",
        "outputId": "8927f7bb-b311-4e32-ea00-59dba34a8dd2"
      },
      "source": [
        "# 1. normalisasikan dataset iris menggunakan normalisasi minmax\n",
        "df_slpw = normalizationMinMax(df_iris, [\"sepal.length\",\"petal.width\"])\n",
        "\n",
        "# 2. tampilkan scatter plot sebelum clustering\n",
        "plt.scatter(df_slsw[['sepal.length']],df_slsw['petal.width'])\n",
        "plt.xlabel('sepal.length')\n",
        "plt.ylabel('petal.width')"
      ],
      "execution_count": 20,
      "outputs": [
        {
          "output_type": "stream",
          "text": [
            "     sepal.length  sepal.width  petal.length  petal.width    variety  cluster\n",
            "0        0.222222     0.625000           1.4     0.041667     Setosa        1\n",
            "1        0.166667     0.416667           1.4     0.041667     Setosa        3\n",
            "2        0.111111     0.500000           1.3     0.041667     Setosa        3\n",
            "3        0.083333     0.458333           1.5     0.041667     Setosa        3\n",
            "4        0.194444     0.666667           1.4     0.041667     Setosa        1\n",
            "..            ...          ...           ...          ...        ...      ...\n",
            "145      0.666667     0.416667           5.2     0.916667  Virginica        2\n",
            "146      0.555556     0.208333           5.0     0.750000  Virginica        0\n",
            "147      0.611111     0.416667           5.2     0.791667  Virginica        2\n",
            "148      0.527778     0.583333           5.4     0.916667  Virginica        2\n",
            "149      0.444444     0.416667           5.1     0.708333  Virginica        0\n",
            "\n",
            "[150 rows x 6 columns]\n"
          ],
          "name": "stdout"
        },
        {
          "output_type": "execute_result",
          "data": {
            "text/plain": [
              "Text(0, 0.5, 'petal.width')"
            ]
          },
          "metadata": {
            "tags": []
          },
          "execution_count": 20
        },
        {
          "output_type": "display_data",
          "data": {
            "image/png": "[encoded data removed]",
            "text/plain": [
              "<Figure size 432x288 with 1 Axes>"
            ]
          },
          "metadata": {
            "tags": [],
            "needs_background": "light"
          }
        }
      ]
    },
    {
      "cell_type": "code",
      "metadata": {
        "colab": {
          "base_uri": "https://localhost:8080/"
        },
        "id": "EFbJWrrvQJxj",
        "outputId": "9209b857-f82e-4a86-fc94-46142a6d23d7"
      },
      "source": [
        "# 3.clusterlah dataset iris dengan nilai K 2, 3, 4\n",
        "km2 = KMeans(n_clusters=2)\n",
        "y_predicted2 = km2.fit_predict(df_slpw[['sepal.length','petal.width']])\n",
        "y_predicted2\n",
        "\n",
        "km3 = KMeans(n_clusters=3)\n",
        "y_predicted3 = km3.fit_predict(df_slpw[['sepal.length','petal.width']])\n",
        "y_predicted3\n",
        "\n",
        "km4 = KMeans(n_clusters=4)\n",
        "y_predicted4 = km4.fit_predict(df_slpw[['sepal.length','petal.width']])\n",
        "y_predicted4\n",
        "\n",
        "ptag.sep(\"Clustered\")"
      ],
      "execution_count": 21,
      "outputs": [
        {
          "output_type": "stream",
          "text": [
            "==============[Clustered]===============\n"
          ],
          "name": "stdout"
        }
      ]
    },
    {
      "cell_type": "code",
      "metadata": {
        "colab": {
          "base_uri": "https://localhost:8080/",
          "height": 610
        },
        "id": "ZkPF_-G6QLe6",
        "outputId": "591e27c5-1a3d-4b1f-b788-e5bede2d92de"
      },
      "source": [
        "# 4.tampilkan scatter plot setelah clustering\n",
        "fig, axs = plt.subplots(2, 2, figsize=(10, 10))\n",
        "showCluster(df_slpw,km2, y_predicted2, 2, ['sepal.length', 'petal.width'],[0,0])\n",
        "showCluster(df_slpw,km3, y_predicted3, 3, ['sepal.length', 'petal.width'],[0,1])\n",
        "showCluster(df_slpw,km4, y_predicted4, 4, ['sepal.length', 'petal.width'],[1,0])\n",
        "#unclustered\n",
        "axs[1,1].scatter(df_slpw[['sepal.length']],df_slpw['petal.width'])"
      ],
      "execution_count": 22,
      "outputs": [
        {
          "output_type": "execute_result",
          "data": {
            "text/plain": [
              "<matplotlib.collections.PathCollection at 0x7fc414584e90>"
            ]
          },
          "metadata": {
            "tags": []
          },
          "execution_count": 22
        },
        {
          "output_type": "display_data",
          "data": {
            "image/png": "[encoded data removed]",
            "text/plain": [
              "<Figure size 720x720 with 4 Axes>"
            ]
          },
          "metadata": {
            "tags": [],
            "needs_background": "light"
          }
        }
      ]
    },
    {
      "cell_type": "code",
      "metadata": {
        "id": "HfdsblD6R1_5"
      },
      "source": [
        "# 5.analisalah perbandingan scatter plot sebelum clustering dan setelah clustering\n",
        "#....> compared to the unclustered with clustered, the data can be grouped into 2 cluster, put also can be group into 4, \n",
        "#      its based on the perspective\n",
        "# 6.tentukan manakah k terbaik jika dilakukan analisa secara visual\n",
        "#....> cluster 4 is better that others, we can see at the cluster was clustered neatly, its separate based on value. \n",
        "#      in another perspective we could group it into 2 cluster by merge cluster 1,5,and 2"
      ],
      "execution_count": null,
      "outputs": []
    },
    {
      "cell_type": "markdown",
      "metadata": {
        "id": "VukcnqscP6iD"
      },
      "source": [
        "### sepal width ~petal width"
      ]
    },
    {
      "cell_type": "code",
      "metadata": {
        "colab": {
          "base_uri": "https://localhost:8080/",
          "height": 552
        },
        "id": "egPnRKnHP-6P",
        "outputId": "640f7a4b-ca96-4a70-d02a-8c757868c584"
      },
      "source": [
        "# 1. normalisasikan dataset iris menggunakan normalisasi minmax\n",
        "df_swpw = normalizationMinMax(df_iris, [\"sepal.width\",\"petal.width\"])\n",
        "\n",
        "# 2. tampilkan scatter plot sebelum clustering\n",
        "plt.scatter(df_swpw[['sepal.width']],df_swpw['petal.width'])\n",
        "plt.xlabel('sepal.width')\n",
        "plt.ylabel('petal.width')"
      ],
      "execution_count": 24,
      "outputs": [
        {
          "output_type": "stream",
          "text": [
            "     sepal.length  sepal.width  petal.length  petal.width    variety  cluster\n",
            "0        0.222222     0.625000           1.4     0.041667     Setosa        2\n",
            "1        0.166667     0.416667           1.4     0.041667     Setosa        2\n",
            "2        0.111111     0.500000           1.3     0.041667     Setosa        2\n",
            "3        0.083333     0.458333           1.5     0.041667     Setosa        2\n",
            "4        0.194444     0.666667           1.4     0.041667     Setosa        2\n",
            "..            ...          ...           ...          ...        ...      ...\n",
            "145      0.666667     0.416667           5.2     0.916667  Virginica        1\n",
            "146      0.555556     0.208333           5.0     0.750000  Virginica        3\n",
            "147      0.611111     0.416667           5.2     0.791667  Virginica        1\n",
            "148      0.527778     0.583333           5.4     0.916667  Virginica        1\n",
            "149      0.444444     0.416667           5.1     0.708333  Virginica        3\n",
            "\n",
            "[150 rows x 6 columns]\n"
          ],
          "name": "stdout"
        },
        {
          "output_type": "execute_result",
          "data": {
            "text/plain": [
              "Text(0, 0.5, 'petal.width')"
            ]
          },
          "metadata": {
            "tags": []
          },
          "execution_count": 24
        },
        {
          "output_type": "display_data",
          "data": {
            "image/png": "[encoded data removed]",
            "text/plain": [
              "<Figure size 432x288 with 1 Axes>"
            ]
          },
          "metadata": {
            "tags": [],
            "needs_background": "light"
          }
        }
      ]
    },
    {
      "cell_type": "code",
      "metadata": {
        "colab": {
          "base_uri": "https://localhost:8080/"
        },
        "id": "siHrS0KBRqCA",
        "outputId": "6f667cba-1eb9-4bd3-8f0e-a26720b2a09f"
      },
      "source": [
        "# 3.clusterlah dataset iris dengan nilai K 2, 3, 4\n",
        "km2 = KMeans(n_clusters=2)\n",
        "y_predicted2 = km2.fit_predict(df_swpw[['sepal.width','petal.width']])\n",
        "y_predicted2\n",
        "\n",
        "km3 = KMeans(n_clusters=3)\n",
        "y_predicted3 = km3.fit_predict(df_swpw[['sepal.width','petal.width']])\n",
        "y_predicted3\n",
        "\n",
        "km4 = KMeans(n_clusters=4)\n",
        "y_predicted4 = km4.fit_predict(df_swpw[['sepal.width','petal.width']])\n",
        "y_predicted4\n",
        "\n",
        "ptag.sep(\"Clustered\")"
      ],
      "execution_count": 25,
      "outputs": [
        {
          "output_type": "stream",
          "text": [
            "==============[Clustered]===============\n"
          ],
          "name": "stdout"
        }
      ]
    },
    {
      "cell_type": "code",
      "metadata": {
        "colab": {
          "base_uri": "https://localhost:8080/",
          "height": 610
        },
        "id": "JcC8vMLBRuJ4",
        "outputId": "a9612c9c-23a8-422a-d6b7-0bfdfb17867d"
      },
      "source": [
        "# 4.tampilkan scatter plot setelah clustering\n",
        "fig, axs = plt.subplots(2, 2, figsize=(10, 10))\n",
        "showCluster(df_swpw,km2, y_predicted2, 2, ['sepal.width', 'petal.width'],[0,0])\n",
        "showCluster(df_swpw,km3, y_predicted3, 3, ['sepal.width', 'petal.width'],[0,1])\n",
        "showCluster(df_swpw,km4, y_predicted4, 4, ['sepal.width', 'petal.width'],[1,0])\n",
        "#unclustered\n",
        "axs[1,1].scatter(df_swpw[['sepal.width']],df_swpw['petal.width'])"
      ],
      "execution_count": 26,
      "outputs": [
        {
          "output_type": "execute_result",
          "data": {
            "text/plain": [
              "<matplotlib.collections.PathCollection at 0x7fc414326710>"
            ]
          },
          "metadata": {
            "tags": []
          },
          "execution_count": 26
        },
        {
          "output_type": "display_data",
          "data": {
            "image/png": "[encoded data removed]",
            "text/plain": [
              "<Figure size 720x720 with 4 Axes>"
            ]
          },
          "metadata": {
            "tags": [],
            "needs_background": "light"
          }
        }
      ]
    },
    {
      "cell_type": "code",
      "metadata": {
        "id": "ebEOTscKR20g"
      },
      "source": [
        "# 5.analisalah perbandingan scatter plot sebelum clustering dan setelah clustering\n",
        "#....> by identify each cluster, we can see the plot can be group into 2 cluster.\n",
        "# 6.tentukan manakah k terbaik jika dilakukan analisa secara visual\n",
        "#....> cluster 2 is enough to group the data"
      ],
      "execution_count": null,
      "outputs": []
    },
    {
      "cell_type": "markdown",
      "metadata": {
        "id": "9QljO5dYP_PB"
      },
      "source": [
        "### petal length ~petal width"
      ]
    },
    {
      "cell_type": "code",
      "metadata": {
        "colab": {
          "base_uri": "https://localhost:8080/",
          "height": 552
        },
        "id": "Z9lroMIGSGjK",
        "outputId": "5f65bde4-a968-4507-b28e-0526ae4e8109"
      },
      "source": [
        "# 1. normalisasikan dataset iris menggunakan normalisasi minmax\n",
        "df_plpw = normalizationMinMax(df_iris, [\"petal.length\",\"petal.width\"])\n",
        "\n",
        "# 2. tampilkan scatter plot sebelum clustering\n",
        "plt.scatter(df_plpw[['petal.length']],df_plpw['petal.width'])\n",
        "plt.xlabel('petal.length')\n",
        "plt.ylabel('petal.width')"
      ],
      "execution_count": 27,
      "outputs": [
        {
          "output_type": "stream",
          "text": [
            "     sepal.length  sepal.width  petal.length  petal.width    variety  cluster\n",
            "0        0.222222     0.625000      0.067797     0.041667     Setosa        1\n",
            "1        0.166667     0.416667      0.067797     0.041667     Setosa        1\n",
            "2        0.111111     0.500000      0.050847     0.041667     Setosa        1\n",
            "3        0.083333     0.458333      0.084746     0.041667     Setosa        1\n",
            "4        0.194444     0.666667      0.067797     0.041667     Setosa        1\n",
            "..            ...          ...           ...          ...        ...      ...\n",
            "145      0.666667     0.416667      0.711864     0.916667  Virginica        3\n",
            "146      0.555556     0.208333      0.677966     0.750000  Virginica        2\n",
            "147      0.611111     0.416667      0.711864     0.791667  Virginica        3\n",
            "148      0.527778     0.583333      0.745763     0.916667  Virginica        3\n",
            "149      0.444444     0.416667      0.694915     0.708333  Virginica        2\n",
            "\n",
            "[150 rows x 6 columns]\n"
          ],
          "name": "stdout"
        },
        {
          "output_type": "execute_result",
          "data": {
            "text/plain": [
              "Text(0, 0.5, 'petal.width')"
            ]
          },
          "metadata": {
            "tags": []
          },
          "execution_count": 27
        },
        {
          "output_type": "display_data",
          "data": {
            "image/png": "[encoded data removed]",
            "text/plain": [
              "<Figure size 432x288 with 1 Axes>"
            ]
          },
          "metadata": {
            "tags": [],
            "needs_background": "light"
          }
        }
      ]
    },
    {
      "cell_type": "code",
      "metadata": {
        "colab": {
          "base_uri": "https://localhost:8080/"
        },
        "id": "GRX2EaemSJd8",
        "outputId": "4700f3cd-0b44-4131-edb6-f22e55170b00"
      },
      "source": [
        "# 3.clusterlah dataset iris dengan nilai K 2, 3, 4\n",
        "km2 = KMeans(n_clusters=2)\n",
        "y_predicted2 = km2.fit_predict(df_plpw[['petal.length','petal.width']])\n",
        "y_predicted2\n",
        "\n",
        "km3 = KMeans(n_clusters=3)\n",
        "y_predicted3 = km3.fit_predict(df_plpw[['petal.length','petal.width']])\n",
        "y_predicted3\n",
        "\n",
        "km4 = KMeans(n_clusters=4)\n",
        "y_predicted4 = km4.fit_predict(df_plpw[['petal.length','petal.width']])\n",
        "y_predicted4\n",
        "\n",
        "ptag.sep(\"Clustered\")"
      ],
      "execution_count": 28,
      "outputs": [
        {
          "output_type": "stream",
          "text": [
            "==============[Clustered]===============\n"
          ],
          "name": "stdout"
        }
      ]
    },
    {
      "cell_type": "code",
      "metadata": {
        "colab": {
          "base_uri": "https://localhost:8080/",
          "height": 610
        },
        "id": "sW-tWPIQSK-K",
        "outputId": "45d55b91-5fbc-4920-eac2-44d111de6b3d"
      },
      "source": [
        "# 4.tampilkan scatter plot setelah clustering\n",
        "fig, axs = plt.subplots(2, 2, figsize=(10, 10))\n",
        "showCluster(df_plpw,km2, y_predicted2, 2, ['petal.length', 'petal.width'],[0,0])\n",
        "showCluster(df_plpw,km3, y_predicted3, 3, ['petal.length', 'petal.width'],[0,1])\n",
        "showCluster(df_plpw,km4, y_predicted4, 4, ['petal.length', 'petal.width'],[1,0])\n",
        "#unclustered\n",
        "axs[1,1].scatter(df_plpw[['petal.length']],df_plpw['petal.width'])"
      ],
      "execution_count": 29,
      "outputs": [
        {
          "output_type": "execute_result",
          "data": {
            "text/plain": [
              "<matplotlib.collections.PathCollection at 0x7fc4140fb790>"
            ]
          },
          "metadata": {
            "tags": []
          },
          "execution_count": 29
        },
        {
          "output_type": "display_data",
          "data": {
            "image/png": "[encoded data removed]",
            "text/plain": [
              "<Figure size 720x720 with 4 Axes>"
            ]
          },
          "metadata": {
            "tags": [],
            "needs_background": "light"
          }
        }
      ]
    },
    {
      "cell_type": "code",
      "metadata": {
        "id": "cD8KVtiHSq3x"
      },
      "source": [
        "# 5.analisalah perbandingan scatter plot sebelum clustering dan setelah clustering\n",
        "#....> we can spot the data is better if clustered into 2 group. compared to unclustered, we can see clearly the group in between\n",
        "# 6.tentukan manakah k terbaik jika dilakukan analisa secara visual\n",
        "#....> cluster 2 is more than enough to cluster the data"
      ],
      "execution_count": null,
      "outputs": []
    }
  ]
}