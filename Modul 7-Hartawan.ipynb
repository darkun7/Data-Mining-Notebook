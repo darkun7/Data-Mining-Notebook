{
  "nbformat": 4,
  "nbformat_minor": 0,
  "metadata": {
    "colab": {
      "name": "Modul 7-Hartawan.ipynb",
      "provenance": [],
      "collapsed_sections": [],
      "toc_visible": true,
      "mount_file_id": "1DkVLZ-VxaQTxG74BpSKa4YMhu20MOxxS",
      "authorship_tag": "ABX9TyM77Djmkthxs8WP0yuMcZYr",
      "include_colab_link": true
    },
    "kernelspec": {
      "name": "python3",
      "display_name": "Python 3"
    },
    "language_info": {
      "name": "python"
    }
  },
  "cells": [
    {
      "cell_type": "markdown",
      "metadata": {
        "id": "view-in-github",
        "colab_type": "text"
      },
      "source": [
        "<a href=\"https://colab.research.google.com/github/darkun7/Data-Mining-Notebook/blob/main/Modul%207-Hartawan.ipynb\" target=\"_parent\"><img src=\"https://colab.research.google.com/assets/colab-badge.svg\" alt=\"Open In Colab\"/></a>"
      ]
    },
    {
      "cell_type": "markdown",
      "metadata": {
        "id": "pkomt4OAF64l"
      },
      "source": [
        "# Module 6 Praktikum Data Mining\n",
        "## Naïve bayes classification\n",
        "* Hartawan Bahari Mulyadi\n",
        "* Student ID: 182410101113\n"
      ]
    },
    {
      "cell_type": "code",
      "metadata": {
        "colab": {
          "base_uri": "https://localhost:8080/"
        },
        "id": "DvU2cGhbFxxz",
        "cellView": "form",
        "outputId": "de8232d1-aac7-49a2-b07a-bdf2722ef91f"
      },
      "source": [
        "#@title Initial Import\n",
        "# Init Library\n",
        "import matplotlib.pyplot as plt\n",
        "import numpy as np\n",
        "import pandas as pd\n",
        "from sklearn.naive_bayes import GaussianNB\n",
        "from sklearn.model_selection import train_test_split\n",
        "\n",
        "from google.colab import drive\n",
        "from google.colab import auth\n",
        "from pydrive.auth import GoogleAuth\n",
        "from pydrive.drive import GoogleDrive\n",
        "from oauth2client.client import GoogleCredentials\n",
        "import sys\n",
        "\n",
        "sys.path.append('/content/gdrive/MyDrive/Tugas/datmin')\n",
        "drive.mount('/content/gdrive')\n",
        "\n",
        "from Darkun7 import pretty_print as ptag\n",
        "from Darkun7 import stream\n",
        "\n",
        "auth.authenticate_user() #googlecolab\n",
        "gauth = GoogleAuth()     #pydrive\n",
        "gauth.credentials = GoogleCredentials.get_application_default()\n",
        "drive = GoogleDrive(gauth)"
      ],
      "execution_count": null,
      "outputs": [
        {
          "output_type": "stream",
          "text": [
            "Mounted at /content/gdrive\n"
          ],
          "name": "stdout"
        }
      ]
    },
    {
      "cell_type": "code",
      "metadata": {
        "colab": {
          "base_uri": "https://localhost:8080/"
        },
        "id": "mGUnhmshN05m",
        "outputId": "4917a7b9-ea4c-4479-ca96-4f1049fc93db"
      },
      "source": [
        "stream.file(drive, '1iHDP55GRptXl6FcLfZFhkXrutfHt1yT4', 'titanic.csv')"
      ],
      "execution_count": null,
      "outputs": [
        {
          "output_type": "stream",
          "text": [
            "GoogleDriveFile({'id': '1iHDP55GRptXl6FcLfZFhkXrutfHt1yT4', 'kind': 'drive#file', 'etag': '\"MTYxODY0MDIwMDk4NQ\"', 'selfLink': 'https://www.googleapis.com/drive/v2/files/1iHDP55GRptXl6FcLfZFhkXrutfHt1yT4', 'webContentLink': 'https://drive.google.com/uc?id=1iHDP55GRptXl6FcLfZFhkXrutfHt1yT4&export=download', 'alternateLink': 'https://drive.google.com/file/d/1iHDP55GRptXl6FcLfZFhkXrutfHt1yT4/view?usp=drivesdk', 'embedLink': 'https://drive.google.com/file/d/1iHDP55GRptXl6FcLfZFhkXrutfHt1yT4/preview?usp=drivesdk', 'iconLink': 'https://drive-thirdparty.googleusercontent.com/16/type/text/csv', 'title': 'titanic.csv', 'mimeType': 'text/csv', 'labels': {'starred': False, 'hidden': False, 'trashed': False, 'restricted': False, 'viewed': True}, 'copyRequiresWriterPermission': False, 'createdDate': '2021-04-17T06:16:32.838Z', 'modifiedDate': '2021-04-17T06:16:40.985Z', 'modifiedByMeDate': '2021-04-17T06:16:40.985Z', 'lastViewedByMeDate': '2021-04-17T06:16:32.838Z', 'markedViewedByMeDate': '1970-01-01T00:00:00.000Z', 'version': '2', 'parents': [{'kind': 'drive#parentReference', 'id': '1JlCo6C0mZc1tA1HhM9FbDc0lTAlj7qYb', 'selfLink': 'https://www.googleapis.com/drive/v2/files/1iHDP55GRptXl6FcLfZFhkXrutfHt1yT4/parents/1JlCo6C0mZc1tA1HhM9FbDc0lTAlj7qYb', 'parentLink': 'https://www.googleapis.com/drive/v2/files/1JlCo6C0mZc1tA1HhM9FbDc0lTAlj7qYb', 'isRoot': False}], 'downloadUrl': 'https://www.googleapis.com/drive/v2/files/1iHDP55GRptXl6FcLfZFhkXrutfHt1yT4?alt=media&source=downloadUrl', 'userPermission': {'kind': 'drive#permission', 'etag': '\"3o-ifzV3DEGxfLXXtR3rjWo6NL0\"', 'id': 'me', 'selfLink': 'https://www.googleapis.com/drive/v2/files/1iHDP55GRptXl6FcLfZFhkXrutfHt1yT4/permissions/me', 'role': 'owner', 'type': 'user'}, 'originalFilename': 'titanic.csv', 'fileExtension': 'csv', 'md5Checksum': '8ad01eb18ac63be27753457e527c0e58', 'fileSize': '60302', 'quotaBytesUsed': '60302', 'ownerNames': ['HARTAWAN BAHARI MULYADI'], 'owners': [{'kind': 'drive#user', 'displayName': 'HARTAWAN BAHARI MULYADI', 'picture': {'url': 'https://lh3.googleusercontent.com/a-/AOh14GigxFeZSPdps-xvjTRv1T6OljdcM3rEI7W-RNSk=s64'}, 'isAuthenticatedUser': True, 'permissionId': '15703877291029635176', 'emailAddress': '182410101113@students.unej.ac.id'}], 'lastModifyingUserName': 'HARTAWAN BAHARI MULYADI', 'lastModifyingUser': {'kind': 'drive#user', 'displayName': 'HARTAWAN BAHARI MULYADI', 'picture': {'url': 'https://lh3.googleusercontent.com/a-/AOh14GigxFeZSPdps-xvjTRv1T6OljdcM3rEI7W-RNSk=s64'}, 'isAuthenticatedUser': True, 'permissionId': '15703877291029635176', 'emailAddress': '182410101113@students.unej.ac.id'}, 'capabilities': {'canCopy': True, 'canEdit': True}, 'editable': True, 'copyable': True, 'writersCanShare': True, 'shared': True, 'explicitlyTrashed': False, 'appDataContents': False, 'headRevisionId': '0B9QUqBxTLB3wVEpnNUx6aHRYOUs3YlorVjhkby8rMFgrTTRnPQ', 'spaces': ['drive']})\n"
          ],
          "name": "stdout"
        }
      ]
    },
    {
      "cell_type": "markdown",
      "metadata": {
        "id": "mnOE9Jz2ZVfg"
      },
      "source": [
        "# Kode 1"
      ]
    },
    {
      "cell_type": "code",
      "metadata": {
        "id": "tlTOuzeNZbih",
        "colab": {
          "base_uri": "https://localhost:8080/"
        },
        "outputId": "bdb7f959-6d9d-4b4d-b4fd-b10beb21be97"
      },
      "source": [
        "df = pd.read_csv(\"titanic.csv\")\n",
        "df.head()"
      ],
      "execution_count": null,
      "outputs": [
        {
          "output_type": "execute_result",
          "data": {
            "text/html": [
              "<div>\n",
              "<style scoped>\n",
              "    .dataframe tbody tr th:only-of-type {\n",
              "        vertical-align: middle;\n",
              "    }\n",
              "\n",
              "    .dataframe tbody tr th {\n",
              "        vertical-align: top;\n",
              "    }\n",
              "\n",
              "    .dataframe thead th {\n",
              "        text-align: right;\n",
              "    }\n",
              "</style>\n",
              "<table border=\"1\" class=\"dataframe\">\n",
              "  <thead>\n",
              "    <tr style=\"text-align: right;\">\n",
              "      <th></th>\n",
              "      <th>PassengerId</th>\n",
              "      <th>Name</th>\n",
              "      <th>Pclass</th>\n",
              "      <th>Sex</th>\n",
              "      <th>Age</th>\n",
              "      <th>SibSp</th>\n",
              "      <th>Parch</th>\n",
              "      <th>Ticket</th>\n",
              "      <th>Fare</th>\n",
              "      <th>Cabin</th>\n",
              "      <th>Embarked</th>\n",
              "      <th>Survived</th>\n",
              "    </tr>\n",
              "  </thead>\n",
              "  <tbody>\n",
              "    <tr>\n",
              "      <th>0</th>\n",
              "      <td>1</td>\n",
              "      <td>Braund, Mr. Owen Harris</td>\n",
              "      <td>3</td>\n",
              "      <td>male</td>\n",
              "      <td>22.0</td>\n",
              "      <td>1</td>\n",
              "      <td>0</td>\n",
              "      <td>A/5 21171</td>\n",
              "      <td>7.2500</td>\n",
              "      <td>NaN</td>\n",
              "      <td>S</td>\n",
              "      <td>0</td>\n",
              "    </tr>\n",
              "    <tr>\n",
              "      <th>1</th>\n",
              "      <td>2</td>\n",
              "      <td>Cumings, Mrs. John Bradley (Florence Briggs Th...</td>\n",
              "      <td>1</td>\n",
              "      <td>female</td>\n",
              "      <td>38.0</td>\n",
              "      <td>1</td>\n",
              "      <td>0</td>\n",
              "      <td>PC 17599</td>\n",
              "      <td>71.2833</td>\n",
              "      <td>C85</td>\n",
              "      <td>C</td>\n",
              "      <td>1</td>\n",
              "    </tr>\n",
              "    <tr>\n",
              "      <th>2</th>\n",
              "      <td>3</td>\n",
              "      <td>Heikkinen, Miss. Laina</td>\n",
              "      <td>3</td>\n",
              "      <td>female</td>\n",
              "      <td>26.0</td>\n",
              "      <td>0</td>\n",
              "      <td>0</td>\n",
              "      <td>STON/O2. 3101282</td>\n",
              "      <td>7.9250</td>\n",
              "      <td>NaN</td>\n",
              "      <td>S</td>\n",
              "      <td>1</td>\n",
              "    </tr>\n",
              "    <tr>\n",
              "      <th>3</th>\n",
              "      <td>4</td>\n",
              "      <td>Futrelle, Mrs. Jacques Heath (Lily May Peel)</td>\n",
              "      <td>1</td>\n",
              "      <td>female</td>\n",
              "      <td>35.0</td>\n",
              "      <td>1</td>\n",
              "      <td>0</td>\n",
              "      <td>113803</td>\n",
              "      <td>53.1000</td>\n",
              "      <td>C123</td>\n",
              "      <td>S</td>\n",
              "      <td>1</td>\n",
              "    </tr>\n",
              "    <tr>\n",
              "      <th>4</th>\n",
              "      <td>5</td>\n",
              "      <td>Allen, Mr. William Henry</td>\n",
              "      <td>3</td>\n",
              "      <td>male</td>\n",
              "      <td>35.0</td>\n",
              "      <td>0</td>\n",
              "      <td>0</td>\n",
              "      <td>373450</td>\n",
              "      <td>8.0500</td>\n",
              "      <td>NaN</td>\n",
              "      <td>S</td>\n",
              "      <td>0</td>\n",
              "    </tr>\n",
              "  </tbody>\n",
              "</table>\n",
              "</div>"
            ],
            "text/plain": [
              "   PassengerId  ... Survived\n",
              "0            1  ...        0\n",
              "1            2  ...        1\n",
              "2            3  ...        1\n",
              "3            4  ...        1\n",
              "4            5  ...        0\n",
              "\n",
              "[5 rows x 12 columns]"
            ]
          },
          "metadata": {
            "tags": []
          },
          "execution_count": 3
        }
      ]
    },
    {
      "cell_type": "code",
      "metadata": {
        "id": "45thEiuPZiHZ",
        "colab": {
          "base_uri": "https://localhost:8080/"
        },
        "outputId": "dd8a8605-8d75-494a-9ba3-bcb70e3049df"
      },
      "source": [
        "df.drop(['PassengerId','Name','SibSp','Parch','Ticket','Cabin','Embarked'],axis='columns',inplace=True)\n",
        "df.head()"
      ],
      "execution_count": null,
      "outputs": [
        {
          "output_type": "execute_result",
          "data": {
            "text/html": [
              "<div>\n",
              "<style scoped>\n",
              "    .dataframe tbody tr th:only-of-type {\n",
              "        vertical-align: middle;\n",
              "    }\n",
              "\n",
              "    .dataframe tbody tr th {\n",
              "        vertical-align: top;\n",
              "    }\n",
              "\n",
              "    .dataframe thead th {\n",
              "        text-align: right;\n",
              "    }\n",
              "</style>\n",
              "<table border=\"1\" class=\"dataframe\">\n",
              "  <thead>\n",
              "    <tr style=\"text-align: right;\">\n",
              "      <th></th>\n",
              "      <th>Pclass</th>\n",
              "      <th>Sex</th>\n",
              "      <th>Age</th>\n",
              "      <th>Fare</th>\n",
              "      <th>Survived</th>\n",
              "    </tr>\n",
              "  </thead>\n",
              "  <tbody>\n",
              "    <tr>\n",
              "      <th>0</th>\n",
              "      <td>3</td>\n",
              "      <td>male</td>\n",
              "      <td>22.0</td>\n",
              "      <td>7.2500</td>\n",
              "      <td>0</td>\n",
              "    </tr>\n",
              "    <tr>\n",
              "      <th>1</th>\n",
              "      <td>1</td>\n",
              "      <td>female</td>\n",
              "      <td>38.0</td>\n",
              "      <td>71.2833</td>\n",
              "      <td>1</td>\n",
              "    </tr>\n",
              "    <tr>\n",
              "      <th>2</th>\n",
              "      <td>3</td>\n",
              "      <td>female</td>\n",
              "      <td>26.0</td>\n",
              "      <td>7.9250</td>\n",
              "      <td>1</td>\n",
              "    </tr>\n",
              "    <tr>\n",
              "      <th>3</th>\n",
              "      <td>1</td>\n",
              "      <td>female</td>\n",
              "      <td>35.0</td>\n",
              "      <td>53.1000</td>\n",
              "      <td>1</td>\n",
              "    </tr>\n",
              "    <tr>\n",
              "      <th>4</th>\n",
              "      <td>3</td>\n",
              "      <td>male</td>\n",
              "      <td>35.0</td>\n",
              "      <td>8.0500</td>\n",
              "      <td>0</td>\n",
              "    </tr>\n",
              "  </tbody>\n",
              "</table>\n",
              "</div>"
            ],
            "text/plain": [
              "   Pclass     Sex   Age     Fare  Survived\n",
              "0       3    male  22.0   7.2500         0\n",
              "1       1  female  38.0  71.2833         1\n",
              "2       3  female  26.0   7.9250         1\n",
              "3       1  female  35.0  53.1000         1\n",
              "4       3    male  35.0   8.0500         0"
            ]
          },
          "metadata": {
            "tags": []
          },
          "execution_count": 4
        }
      ]
    },
    {
      "cell_type": "code",
      "metadata": {
        "id": "sGxil7_WZlba",
        "colab": {
          "base_uri": "https://localhost:8080/"
        },
        "outputId": "fd93c6ed-6cda-4f76-ed73-a15f7903d24a"
      },
      "source": [
        "inputs = df.drop('Survived',axis='columns')\n",
        "target = df.Survived\n",
        "dummies = pd.get_dummies(inputs.Sex)\n",
        "dummies.head(3)"
      ],
      "execution_count": null,
      "outputs": [
        {
          "output_type": "execute_result",
          "data": {
            "text/html": [
              "<div>\n",
              "<style scoped>\n",
              "    .dataframe tbody tr th:only-of-type {\n",
              "        vertical-align: middle;\n",
              "    }\n",
              "\n",
              "    .dataframe tbody tr th {\n",
              "        vertical-align: top;\n",
              "    }\n",
              "\n",
              "    .dataframe thead th {\n",
              "        text-align: right;\n",
              "    }\n",
              "</style>\n",
              "<table border=\"1\" class=\"dataframe\">\n",
              "  <thead>\n",
              "    <tr style=\"text-align: right;\">\n",
              "      <th></th>\n",
              "      <th>female</th>\n",
              "      <th>male</th>\n",
              "    </tr>\n",
              "  </thead>\n",
              "  <tbody>\n",
              "    <tr>\n",
              "      <th>0</th>\n",
              "      <td>0</td>\n",
              "      <td>1</td>\n",
              "    </tr>\n",
              "    <tr>\n",
              "      <th>1</th>\n",
              "      <td>1</td>\n",
              "      <td>0</td>\n",
              "    </tr>\n",
              "    <tr>\n",
              "      <th>2</th>\n",
              "      <td>1</td>\n",
              "      <td>0</td>\n",
              "    </tr>\n",
              "  </tbody>\n",
              "</table>\n",
              "</div>"
            ],
            "text/plain": [
              "   female  male\n",
              "0       0     1\n",
              "1       1     0\n",
              "2       1     0"
            ]
          },
          "metadata": {
            "tags": []
          },
          "execution_count": 5
        }
      ]
    },
    {
      "cell_type": "code",
      "metadata": {
        "colab": {
          "base_uri": "https://localhost:8080/"
        },
        "id": "G8Bspd-nev-E",
        "outputId": "94466233-95f0-433c-b715-463ce1782ace"
      },
      "source": [
        "inputs = pd.concat([inputs,dummies],axis='columns')\n",
        "inputs.head(3)"
      ],
      "execution_count": null,
      "outputs": [
        {
          "output_type": "execute_result",
          "data": {
            "text/html": [
              "<div>\n",
              "<style scoped>\n",
              "    .dataframe tbody tr th:only-of-type {\n",
              "        vertical-align: middle;\n",
              "    }\n",
              "\n",
              "    .dataframe tbody tr th {\n",
              "        vertical-align: top;\n",
              "    }\n",
              "\n",
              "    .dataframe thead th {\n",
              "        text-align: right;\n",
              "    }\n",
              "</style>\n",
              "<table border=\"1\" class=\"dataframe\">\n",
              "  <thead>\n",
              "    <tr style=\"text-align: right;\">\n",
              "      <th></th>\n",
              "      <th>Pclass</th>\n",
              "      <th>Sex</th>\n",
              "      <th>Age</th>\n",
              "      <th>Fare</th>\n",
              "      <th>female</th>\n",
              "      <th>male</th>\n",
              "    </tr>\n",
              "  </thead>\n",
              "  <tbody>\n",
              "    <tr>\n",
              "      <th>0</th>\n",
              "      <td>3</td>\n",
              "      <td>male</td>\n",
              "      <td>22.0</td>\n",
              "      <td>7.2500</td>\n",
              "      <td>0</td>\n",
              "      <td>1</td>\n",
              "    </tr>\n",
              "    <tr>\n",
              "      <th>1</th>\n",
              "      <td>1</td>\n",
              "      <td>female</td>\n",
              "      <td>38.0</td>\n",
              "      <td>71.2833</td>\n",
              "      <td>1</td>\n",
              "      <td>0</td>\n",
              "    </tr>\n",
              "    <tr>\n",
              "      <th>2</th>\n",
              "      <td>3</td>\n",
              "      <td>female</td>\n",
              "      <td>26.0</td>\n",
              "      <td>7.9250</td>\n",
              "      <td>1</td>\n",
              "      <td>0</td>\n",
              "    </tr>\n",
              "  </tbody>\n",
              "</table>\n",
              "</div>"
            ],
            "text/plain": [
              "   Pclass     Sex   Age     Fare  female  male\n",
              "0       3    male  22.0   7.2500       0     1\n",
              "1       1  female  38.0  71.2833       1     0\n",
              "2       3  female  26.0   7.9250       1     0"
            ]
          },
          "metadata": {
            "tags": []
          },
          "execution_count": 6
        }
      ]
    },
    {
      "cell_type": "code",
      "metadata": {
        "colab": {
          "base_uri": "https://localhost:8080/"
        },
        "id": "lskv2yY_exJD",
        "outputId": "24bb4965-7eca-49bc-a911-645bc93ef31c"
      },
      "source": [
        "inputs.drop(['Sex','male'],axis='columns',inplace=True)\n",
        "inputs.head(3)"
      ],
      "execution_count": null,
      "outputs": [
        {
          "output_type": "execute_result",
          "data": {
            "text/html": [
              "<div>\n",
              "<style scoped>\n",
              "    .dataframe tbody tr th:only-of-type {\n",
              "        vertical-align: middle;\n",
              "    }\n",
              "\n",
              "    .dataframe tbody tr th {\n",
              "        vertical-align: top;\n",
              "    }\n",
              "\n",
              "    .dataframe thead th {\n",
              "        text-align: right;\n",
              "    }\n",
              "</style>\n",
              "<table border=\"1\" class=\"dataframe\">\n",
              "  <thead>\n",
              "    <tr style=\"text-align: right;\">\n",
              "      <th></th>\n",
              "      <th>Pclass</th>\n",
              "      <th>Age</th>\n",
              "      <th>Fare</th>\n",
              "      <th>female</th>\n",
              "    </tr>\n",
              "  </thead>\n",
              "  <tbody>\n",
              "    <tr>\n",
              "      <th>0</th>\n",
              "      <td>3</td>\n",
              "      <td>22.0</td>\n",
              "      <td>7.2500</td>\n",
              "      <td>0</td>\n",
              "    </tr>\n",
              "    <tr>\n",
              "      <th>1</th>\n",
              "      <td>1</td>\n",
              "      <td>38.0</td>\n",
              "      <td>71.2833</td>\n",
              "      <td>1</td>\n",
              "    </tr>\n",
              "    <tr>\n",
              "      <th>2</th>\n",
              "      <td>3</td>\n",
              "      <td>26.0</td>\n",
              "      <td>7.9250</td>\n",
              "      <td>1</td>\n",
              "    </tr>\n",
              "  </tbody>\n",
              "</table>\n",
              "</div>"
            ],
            "text/plain": [
              "   Pclass   Age     Fare  female\n",
              "0       3  22.0   7.2500       0\n",
              "1       1  38.0  71.2833       1\n",
              "2       3  26.0   7.9250       1"
            ]
          },
          "metadata": {
            "tags": []
          },
          "execution_count": 7
        }
      ]
    },
    {
      "cell_type": "code",
      "metadata": {
        "colab": {
          "base_uri": "https://localhost:8080/"
        },
        "id": "6HCqvsXUeyTs",
        "outputId": "401f1ca6-ba34-42b4-e702-cab330531953"
      },
      "source": [
        "inputs.columns[inputs.isna().any()]"
      ],
      "execution_count": null,
      "outputs": [
        {
          "output_type": "execute_result",
          "data": {
            "text/plain": [
              "Index(['Age'], dtype='object')"
            ]
          },
          "metadata": {
            "tags": []
          },
          "execution_count": 8
        }
      ]
    },
    {
      "cell_type": "code",
      "metadata": {
        "colab": {
          "base_uri": "https://localhost:8080/"
        },
        "id": "RCNzcoX-ez_c",
        "outputId": "001abe16-1de8-47cb-be8f-9fd41a7dc0f9"
      },
      "source": [
        "inputs.Age[:20]"
      ],
      "execution_count": null,
      "outputs": [
        {
          "output_type": "execute_result",
          "data": {
            "text/plain": [
              "0     22.0\n",
              "1     38.0\n",
              "2     26.0\n",
              "3     35.0\n",
              "4     35.0\n",
              "5      NaN\n",
              "6     54.0\n",
              "7      2.0\n",
              "8     27.0\n",
              "9     14.0\n",
              "10     4.0\n",
              "11    58.0\n",
              "12    20.0\n",
              "13    39.0\n",
              "14    14.0\n",
              "15    55.0\n",
              "16     2.0\n",
              "17     NaN\n",
              "18    31.0\n",
              "19     NaN\n",
              "Name: Age, dtype: float64"
            ]
          },
          "metadata": {
            "tags": []
          },
          "execution_count": 9
        }
      ]
    },
    {
      "cell_type": "code",
      "metadata": {
        "colab": {
          "base_uri": "https://localhost:8080/"
        },
        "id": "cFDnDq-effQD",
        "outputId": "c4db0eb0-380a-4b76-f186-54e8307d82e0"
      },
      "source": [
        "inputs.Age = inputs.Age.fillna(inputs.Age.mean())\n",
        "inputs.head()"
      ],
      "execution_count": null,
      "outputs": [
        {
          "output_type": "execute_result",
          "data": {
            "text/html": [
              "<div>\n",
              "<style scoped>\n",
              "    .dataframe tbody tr th:only-of-type {\n",
              "        vertical-align: middle;\n",
              "    }\n",
              "\n",
              "    .dataframe tbody tr th {\n",
              "        vertical-align: top;\n",
              "    }\n",
              "\n",
              "    .dataframe thead th {\n",
              "        text-align: right;\n",
              "    }\n",
              "</style>\n",
              "<table border=\"1\" class=\"dataframe\">\n",
              "  <thead>\n",
              "    <tr style=\"text-align: right;\">\n",
              "      <th></th>\n",
              "      <th>Pclass</th>\n",
              "      <th>Age</th>\n",
              "      <th>Fare</th>\n",
              "      <th>female</th>\n",
              "    </tr>\n",
              "  </thead>\n",
              "  <tbody>\n",
              "    <tr>\n",
              "      <th>0</th>\n",
              "      <td>3</td>\n",
              "      <td>22.0</td>\n",
              "      <td>7.2500</td>\n",
              "      <td>0</td>\n",
              "    </tr>\n",
              "    <tr>\n",
              "      <th>1</th>\n",
              "      <td>1</td>\n",
              "      <td>38.0</td>\n",
              "      <td>71.2833</td>\n",
              "      <td>1</td>\n",
              "    </tr>\n",
              "    <tr>\n",
              "      <th>2</th>\n",
              "      <td>3</td>\n",
              "      <td>26.0</td>\n",
              "      <td>7.9250</td>\n",
              "      <td>1</td>\n",
              "    </tr>\n",
              "    <tr>\n",
              "      <th>3</th>\n",
              "      <td>1</td>\n",
              "      <td>35.0</td>\n",
              "      <td>53.1000</td>\n",
              "      <td>1</td>\n",
              "    </tr>\n",
              "    <tr>\n",
              "      <th>4</th>\n",
              "      <td>3</td>\n",
              "      <td>35.0</td>\n",
              "      <td>8.0500</td>\n",
              "      <td>0</td>\n",
              "    </tr>\n",
              "  </tbody>\n",
              "</table>\n",
              "</div>"
            ],
            "text/plain": [
              "   Pclass   Age     Fare  female\n",
              "0       3  22.0   7.2500       0\n",
              "1       1  38.0  71.2833       1\n",
              "2       3  26.0   7.9250       1\n",
              "3       1  35.0  53.1000       1\n",
              "4       3  35.0   8.0500       0"
            ]
          },
          "metadata": {
            "tags": []
          },
          "execution_count": 10
        }
      ]
    },
    {
      "cell_type": "code",
      "metadata": {
        "colab": {
          "base_uri": "https://localhost:8080/"
        },
        "id": "oQnyoDo7fgom",
        "outputId": "ce4c672a-1c8d-4ef1-e7ad-0fa3474fe914"
      },
      "source": [
        "X_train, X_test, y_train, y_test = train_test_split(inputs,target,test_size=0.3)\n",
        "model = GaussianNB()\n",
        "model.fit(X_train,y_train)\n",
        "model.score(X_test,y_test)\n",
        "ptag.sep('classified')"
      ],
      "execution_count": null,
      "outputs": [
        {
          "output_type": "stream",
          "text": [
            "==============[classified]==============\n"
          ],
          "name": "stdout"
        }
      ]
    },
    {
      "cell_type": "code",
      "metadata": {
        "id": "XN-oO0Itfh8E"
      },
      "source": [
        "X_test = X_test[0:10]\n",
        "y_test = y_test[0:10]\n",
        "y_pred = model.predict(X_test[0:10])\n",
        "y_pred_proba = model.predict_proba(X_test[:10])"
      ],
      "execution_count": null,
      "outputs": []
    },
    {
      "cell_type": "markdown",
      "metadata": {
        "id": "uZ2IudEE4QHK"
      },
      "source": [
        "# Task"
      ]
    },
    {
      "cell_type": "markdown",
      "metadata": {
        "id": "jEf77ilkgAyB"
      },
      "source": [
        "1.\tulangi langkah pada kode 1 untuk dataset iris dan adult. Masing masing gunakan perbandingan 0.2, 0.3, 0.4. tuliskan akurasinya\n",
        "2.\tuntuk masing masing dataset carilah subset kombinasi dari attribut yang memeberi hasil klasifikasi lebih baik dari data asli\n"
      ]
    },
    {
      "cell_type": "code",
      "metadata": {
        "id": "VUwtHsYrjuUu",
        "colab": {
          "base_uri": "https://localhost:8080/"
        },
        "outputId": "563d3aee-dcec-4dc9-a546-32c0f8bcd3c3"
      },
      "source": [
        "from sklearn.metrics import accuracy_score \n",
        "from sklearn.metrics import confusion_matrix \n",
        "from mlxtend.feature_selection import ExhaustiveFeatureSelector as EFS"
      ],
      "execution_count": null,
      "outputs": [
        {
          "output_type": "stream",
          "text": [
            "/usr/local/lib/python3.7/dist-packages/sklearn/externals/joblib/__init__.py:15: FutureWarning: sklearn.externals.joblib is deprecated in 0.21 and will be removed in 0.23. Please import this functionality directly from joblib, which can be installed with: pip install joblib. If this warning is raised when loading pickled models, you may need to re-serialize those models with scikit-learn 0.21+.\n",
            "  warnings.warn(msg, category=FutureWarning)\n"
          ],
          "name": "stderr"
        }
      ]
    },
    {
      "cell_type": "markdown",
      "metadata": {
        "id": "NQQmiMW0gEln"
      },
      "source": [
        "## Iris"
      ]
    },
    {
      "cell_type": "code",
      "metadata": {
        "id": "vTJJRfD3jD1G",
        "colab": {
          "base_uri": "https://localhost:8080/",
          "height": 236
        },
        "outputId": "1b6e58ca-079f-45a6-bd63-a4f1f5bc67ed"
      },
      "source": [
        "stream.file(drive, '1wOMtUMDl3QkOIQPBuuivG3DBHmNoC7PX', 'iris.csv')\n",
        "df_iris = pd.read_csv(\"iris.csv\")\n",
        "target_iris = df_iris.variety\n",
        "df_iris.head()"
      ],
      "execution_count": null,
      "outputs": [
        {
          "output_type": "stream",
          "text": [
            "GoogleDriveFile({'id': '1wOMtUMDl3QkOIQPBuuivG3DBHmNoC7PX', 'kind': 'drive#file', 'etag': '\"MTYxNjI4MDQwOTgxMg\"', 'selfLink': 'https://www.googleapis.com/drive/v2/files/1wOMtUMDl3QkOIQPBuuivG3DBHmNoC7PX', 'webContentLink': 'https://drive.google.com/uc?id=1wOMtUMDl3QkOIQPBuuivG3DBHmNoC7PX&export=download', 'alternateLink': 'https://drive.google.com/file/d/1wOMtUMDl3QkOIQPBuuivG3DBHmNoC7PX/view?usp=drivesdk', 'embedLink': 'https://drive.google.com/file/d/1wOMtUMDl3QkOIQPBuuivG3DBHmNoC7PX/preview?usp=drivesdk', 'iconLink': 'https://drive-thirdparty.googleusercontent.com/16/type/text/csv', 'title': 'iris.csv', 'mimeType': 'text/csv', 'labels': {'starred': False, 'hidden': False, 'trashed': False, 'restricted': False, 'viewed': True}, 'copyRequiresWriterPermission': False, 'createdDate': '2021-03-20T22:46:49.812Z', 'modifiedDate': '2021-03-20T22:46:49.812Z', 'modifiedByMeDate': '2021-03-20T22:46:49.812Z', 'lastViewedByMeDate': '2021-03-21T00:24:33.127Z', 'markedViewedByMeDate': '1970-01-01T00:00:00.000Z', 'version': '4', 'parents': [{'kind': 'drive#parentReference', 'id': '1DMCng9JBcfNaDHylsoGwqY3RPxBsY9U8', 'selfLink': 'https://www.googleapis.com/drive/v2/files/1wOMtUMDl3QkOIQPBuuivG3DBHmNoC7PX/parents/1DMCng9JBcfNaDHylsoGwqY3RPxBsY9U8', 'parentLink': 'https://www.googleapis.com/drive/v2/files/1DMCng9JBcfNaDHylsoGwqY3RPxBsY9U8', 'isRoot': False}], 'downloadUrl': 'https://www.googleapis.com/drive/v2/files/1wOMtUMDl3QkOIQPBuuivG3DBHmNoC7PX?alt=media&source=downloadUrl', 'userPermission': {'kind': 'drive#permission', 'etag': '\"PzT7UlKSk1UpeW5YW8gXkYOmTHE\"', 'id': 'me', 'selfLink': 'https://www.googleapis.com/drive/v2/files/1wOMtUMDl3QkOIQPBuuivG3DBHmNoC7PX/permissions/me', 'role': 'owner', 'type': 'user'}, 'originalFilename': 'iris.csv', 'fileExtension': 'csv', 'md5Checksum': '341a3b5244f213282b7b0920b729c592', 'fileSize': '3975', 'quotaBytesUsed': '3975', 'ownerNames': ['HARTAWAN BAHARI MULYADI'], 'owners': [{'kind': 'drive#user', 'displayName': 'HARTAWAN BAHARI MULYADI', 'picture': {'url': 'https://lh3.googleusercontent.com/a-/AOh14GigxFeZSPdps-xvjTRv1T6OljdcM3rEI7W-RNSk=s64'}, 'isAuthenticatedUser': True, 'permissionId': '15703877291029635176', 'emailAddress': '182410101113@students.unej.ac.id'}], 'lastModifyingUserName': 'HARTAWAN BAHARI MULYADI', 'lastModifyingUser': {'kind': 'drive#user', 'displayName': 'HARTAWAN BAHARI MULYADI', 'picture': {'url': 'https://lh3.googleusercontent.com/a-/AOh14GigxFeZSPdps-xvjTRv1T6OljdcM3rEI7W-RNSk=s64'}, 'isAuthenticatedUser': True, 'permissionId': '15703877291029635176', 'emailAddress': '182410101113@students.unej.ac.id'}, 'capabilities': {'canCopy': True, 'canEdit': True}, 'editable': True, 'copyable': True, 'writersCanShare': True, 'shared': False, 'explicitlyTrashed': False, 'appDataContents': False, 'headRevisionId': '0B9QUqBxTLB3wdXFvMjJzTTV3UmxqL2VOQ1h2NTRaY2MvcUljPQ', 'spaces': ['drive']})\n"
          ],
          "name": "stdout"
        },
        {
          "output_type": "execute_result",
          "data": {
            "text/html": [
              "<div>\n",
              "<style scoped>\n",
              "    .dataframe tbody tr th:only-of-type {\n",
              "        vertical-align: middle;\n",
              "    }\n",
              "\n",
              "    .dataframe tbody tr th {\n",
              "        vertical-align: top;\n",
              "    }\n",
              "\n",
              "    .dataframe thead th {\n",
              "        text-align: right;\n",
              "    }\n",
              "</style>\n",
              "<table border=\"1\" class=\"dataframe\">\n",
              "  <thead>\n",
              "    <tr style=\"text-align: right;\">\n",
              "      <th></th>\n",
              "      <th>sepal.length</th>\n",
              "      <th>sepal.width</th>\n",
              "      <th>petal.length</th>\n",
              "      <th>petal.width</th>\n",
              "      <th>variety</th>\n",
              "    </tr>\n",
              "  </thead>\n",
              "  <tbody>\n",
              "    <tr>\n",
              "      <th>0</th>\n",
              "      <td>5.1</td>\n",
              "      <td>3.5</td>\n",
              "      <td>1.4</td>\n",
              "      <td>0.2</td>\n",
              "      <td>Setosa</td>\n",
              "    </tr>\n",
              "    <tr>\n",
              "      <th>1</th>\n",
              "      <td>4.9</td>\n",
              "      <td>3.0</td>\n",
              "      <td>1.4</td>\n",
              "      <td>0.2</td>\n",
              "      <td>Setosa</td>\n",
              "    </tr>\n",
              "    <tr>\n",
              "      <th>2</th>\n",
              "      <td>4.7</td>\n",
              "      <td>3.2</td>\n",
              "      <td>1.3</td>\n",
              "      <td>0.2</td>\n",
              "      <td>Setosa</td>\n",
              "    </tr>\n",
              "    <tr>\n",
              "      <th>3</th>\n",
              "      <td>4.6</td>\n",
              "      <td>3.1</td>\n",
              "      <td>1.5</td>\n",
              "      <td>0.2</td>\n",
              "      <td>Setosa</td>\n",
              "    </tr>\n",
              "    <tr>\n",
              "      <th>4</th>\n",
              "      <td>5.0</td>\n",
              "      <td>3.6</td>\n",
              "      <td>1.4</td>\n",
              "      <td>0.2</td>\n",
              "      <td>Setosa</td>\n",
              "    </tr>\n",
              "  </tbody>\n",
              "</table>\n",
              "</div>"
            ],
            "text/plain": [
              "   sepal.length  sepal.width  petal.length  petal.width variety\n",
              "0           5.1          3.5           1.4          0.2  Setosa\n",
              "1           4.9          3.0           1.4          0.2  Setosa\n",
              "2           4.7          3.2           1.3          0.2  Setosa\n",
              "3           4.6          3.1           1.5          0.2  Setosa\n",
              "4           5.0          3.6           1.4          0.2  Setosa"
            ]
          },
          "metadata": {
            "tags": []
          },
          "execution_count": 15
        }
      ]
    },
    {
      "cell_type": "code",
      "metadata": {
        "id": "bqh59XNDEH6O"
      },
      "source": [
        "def clusterNB(input,target,test_size):\n",
        "  ptag.sep(\"Naive Bayes: test-size \"+str(test_size*100)+\"%\")\n",
        "  X_train, X_test, y_train, y_test = train_test_split(input,target,test_size=test_size, random_state=0)\n",
        "  model = GaussianNB()\n",
        "  model.fit(X_train,y_train)\n",
        "  model.score(X_test,y_test)\n",
        "  \n",
        "  y_pred = model.predict(X_test)\n",
        "  y_pred_proba = model.predict_proba(X_test)\n",
        "\n",
        "  cm = confusion_matrix(y_test, y_pred)\n",
        "  ptag.sep(\"Confusion Matrix\")\n",
        "  print(cm)\n",
        "\n",
        "  ptag.sep(\"Accuracy Score\")\n",
        "  ac = accuracy_score(y_test, y_pred)\n",
        "  print(ac)\n",
        "  return {\n",
        "      \"model\": model,\n",
        "      \"matrix\": cm,\n",
        "      \"x_train\": X_train,\n",
        "      \"x_test\" : X_test,\n",
        "      \"y_pred\": y_pred,\n",
        "      \"y_pred_proba\":y_pred_proba\n",
        "  }\n",
        "\n",
        "def modelProba(target,y_pred, y_pred_proba):\n",
        "  ptag.sep(\"Probability Prediction\")\n",
        "  print(str(pd.unique(target)))\n",
        "  return list(zip(y_pred,y_pred_proba))\n",
        "\n",
        "def visualizeModel(Xtrain,Xtest,columns):\n",
        "  color = ['#003f5c', '#374c80', '#7a5195',\n",
        "           '#bc5090', '#ef5675', '#ff764a', '#ffa600']\n",
        "  # lim = plt.axis()\n",
        "  plt.scatter(Xtrain[columns[0]], Xtrain[columns[1]], c=color[1], s=50, cmap='RdBu')\n",
        "  plt.scatter(Xtest[columns[0]], Xtest[columns[1]], c=color[2], s=20, cmap='RdBu', alpha=0.2)\n",
        "  # for _ in columns:\n",
        "  #   i = list(columns).index(_)\n",
        "  #   plt.scatter(Xtrain[_], Xtrain[_], c=color[i], s=50, cmap='RdBu')\n",
        "  #   plt.scatter(Xtest[_], Xtest[_], c=color[i], s=20, cmap='RdBu', alpha=0.2)\n",
        "  # plt.axis(lim);\n",
        "  plt.show()"
      ],
      "execution_count": null,
      "outputs": []
    },
    {
      "cell_type": "markdown",
      "metadata": {
        "id": "kJfHEtAo1Z8y"
      },
      "source": [
        "### Test 20%, 30%, 40%"
      ]
    },
    {
      "cell_type": "code",
      "metadata": {
        "colab": {
          "base_uri": "https://localhost:8080/"
        },
        "id": "nA1sg789IoDC",
        "outputId": "09c81efe-7ec2-4739-d56b-0a4e938f92a3"
      },
      "source": [
        "iris = df_iris.drop(['variety'], axis='columns')\n",
        "#ALL FEATURES 20%\n",
        "nb_iris_20 = clusterNB(iris,target_iris, 0.2)\n",
        "modelProba(target_iris,nb_iris_20[\"y_pred\"],nb_iris_20[\"y_pred_proba\"])"
      ],
      "execution_count": null,
      "outputs": [
        {
          "output_type": "stream",
          "text": [
            "=====[Naive Bayes: test-size 20.0%]=====\n",
            "===========[Confusion Matrix]===========\n",
            "[[11  0  0]\n",
            " [ 0 13  0]\n",
            " [ 0  1  5]]\n",
            "============[Accuracy Score]============\n",
            "0.9666666666666667\n",
            "========[Probability Prediction]========\n",
            "['Setosa' 'Versicolor' 'Virginica']\n"
          ],
          "name": "stdout"
        },
        {
          "output_type": "execute_result",
          "data": {
            "text/plain": [
              "[('Virginica', array([1.63380783e-232, 2.18878438e-006, 9.99997811e-001])),\n",
              " ('Versicolor', array([1.82640391e-82, 9.99998304e-01, 1.69618390e-06])),\n",
              " ('Setosa', array([1.00000000e+00, 7.10250510e-19, 3.65449801e-28])),\n",
              " ('Virginica', array([1.58508262e-305, 1.04649020e-006, 9.99998954e-001])),\n",
              " ('Setosa', array([1.00000000e+00, 8.59168655e-17, 4.22159374e-27])),\n",
              " ('Virginica', array([6.39815011e-321, 1.56450314e-010, 1.00000000e+000])),\n",
              " ('Setosa', array([1.00000000e+00, 1.09797313e-16, 5.30276557e-27])),\n",
              " ('Versicolor', array([1.25122812e-146, 7.74052109e-001, 2.25947891e-001])),\n",
              " ('Versicolor', array([5.34357526e-150, 9.07564955e-001, 9.24350453e-002])),\n",
              " ('Versicolor', array([5.67261712e-93, 9.99882109e-01, 1.17891111e-04])),\n",
              " ('Versicolor', array([2.38651144e-210, 5.29609631e-001, 4.70390369e-001])),\n",
              " ('Versicolor', array([8.12047631e-132, 9.43762575e-001, 5.62374248e-002])),\n",
              " ('Versicolor', array([5.25177109e-132, 9.98864361e-001, 1.13563851e-003])),\n",
              " ('Versicolor', array([1.24498038e-139, 9.49838641e-001, 5.01613586e-002])),\n",
              " ('Versicolor', array([4.08232760e-140, 9.88043864e-001, 1.19561365e-002])),\n",
              " ('Setosa', array([1.00000000e+00, 7.12837229e-19, 4.10162749e-29])),\n",
              " ('Versicolor', array([4.19553996e-131, 9.87944980e-001, 1.20550201e-002])),\n",
              " ('Versicolor', array([4.13286716e-111, 9.99942383e-001, 5.76167389e-005])),\n",
              " ('Setosa', array([1.00000000e+00, 2.24933112e-15, 3.63624519e-26])),\n",
              " ('Setosa', array([1.00000000e+00, 9.86750131e-16, 2.42355087e-25])),\n",
              " ('Virginica', array([1.85930865e-186, 1.66966805e-002, 9.83303319e-001])),\n",
              " ('Versicolor', array([8.83060167e-130, 9.92757232e-001, 7.24276827e-003])),\n",
              " ('Setosa', array([1.00000000e+00, 4.26380344e-13, 4.34222344e-23])),\n",
              " ('Setosa', array([1.00000000e+00, 1.28045851e-16, 1.26708019e-27])),\n",
              " ('Virginica', array([2.43739221e-168, 1.83516225e-001, 8.16483775e-001])),\n",
              " ('Setosa', array([1.00000000e+00, 2.62431469e-18, 6.72573168e-29])),\n",
              " ('Setosa', array([1.00000000e+00, 3.20605389e-11, 1.52433420e-20])),\n",
              " ('Versicolor', array([2.20964201e-110, 9.99291229e-001, 7.08771072e-004])),\n",
              " ('Versicolor', array([1.39297338e-46, 9.99999972e-01, 2.81392389e-08])),\n",
              " ('Setosa', array([1.00000000e+00, 1.85943966e-13, 1.58833385e-23]))]"
            ]
          },
          "metadata": {
            "tags": []
          },
          "execution_count": 17
        }
      ]
    },
    {
      "cell_type": "code",
      "metadata": {
        "colab": {
          "base_uri": "https://localhost:8080/"
        },
        "id": "3lvzrihw1jCX",
        "outputId": "ba196730-3def-4fa9-a53b-974e2418477b"
      },
      "source": [
        "nb_iris_30 = clusterNB(iris,target_iris, 0.3)\n",
        "ptag.br()\n",
        "nb_iris_40 = clusterNB(iris,target_iris, 0.4)"
      ],
      "execution_count": null,
      "outputs": [
        {
          "output_type": "stream",
          "text": [
            "=====[Naive Bayes: test-size 30.0%]=====\n",
            "===========[Confusion Matrix]===========\n",
            "[[16  0  0]\n",
            " [ 0 18  0]\n",
            " [ 0  0 11]]\n",
            "============[Accuracy Score]============\n",
            "1.0\n",
            "\n",
            "=====[Naive Bayes: test-size 40.0%]=====\n",
            "===========[Confusion Matrix]===========\n",
            "[[16  0  0]\n",
            " [ 0 23  0]\n",
            " [ 0  4 17]]\n",
            "============[Accuracy Score]============\n",
            "0.9333333333333333\n"
          ],
          "name": "stdout"
        }
      ]
    },
    {
      "cell_type": "markdown",
      "metadata": {
        "id": "apqWdgjMYvXT"
      },
      "source": [
        "### Iris Best Combination Attributes"
      ]
    },
    {
      "cell_type": "code",
      "metadata": {
        "colab": {
          "base_uri": "https://localhost:8080/"
        },
        "id": "JJ7vucrPVm-4",
        "outputId": "29bc8e16-e2d7-42d5-ae87-9e204df41057"
      },
      "source": [
        "X_train, X_test, y_train, y_test = train_test_split(iris,target_iris,test_size=0.4, random_state=0)\n",
        "efs = EFS(GaussianNB(), min_features=1,max_features=4,scoring='accuracy',cv=5)\n",
        "efs.fit(X_train,y_train)\n",
        "ptag.br()\n",
        "print('Akurasi Tertinggi: %.2f' % efs.best_score_)\n",
        "print('Fitur Terbaik:', efs.best_feature_names_)"
      ],
      "execution_count": null,
      "outputs": [
        {
          "output_type": "stream",
          "text": [
            "Features: 15/15"
          ],
          "name": "stderr"
        },
        {
          "output_type": "stream",
          "text": [
            "\n",
            "Akurasi Tertinggi: 0.98\n",
            "Fitur Terbaik: ('sepal.length', 'petal.width')\n"
          ],
          "name": "stdout"
        }
      ]
    },
    {
      "cell_type": "code",
      "metadata": {
        "colab": {
          "base_uri": "https://localhost:8080/",
          "height": 392
        },
        "id": "GP8rRk1UZPPv",
        "outputId": "eb93c605-2196-4ed4-d7c0-105f72fdc27b"
      },
      "source": [
        "nb_iris_best = clusterNB(iris[['sepal.length','petal.width']],\n",
        "                         target_iris, 0.2)\n",
        "visualizeModel(nb_iris_best[\"x_train\"], nb_iris_best[\"x_test\"], ['sepal.length','petal.width'])"
      ],
      "execution_count": null,
      "outputs": [
        {
          "output_type": "stream",
          "text": [
            "=====[Naive Bayes: test-size 20.0%]=====\n",
            "===========[Confusion Matrix]===========\n",
            "[[11  0  0]\n",
            " [ 0 13  0]\n",
            " [ 0  1  5]]\n",
            "============[Accuracy Score]============\n",
            "0.9666666666666667\n"
          ],
          "name": "stdout"
        },
        {
          "output_type": "display_data",
          "data": {
            "image/png": "[encoded data removed]",
            "text/plain": [
              "<Figure size 432x288 with 1 Axes>"
            ]
          },
          "metadata": {
            "tags": [],
            "needs_background": "light"
          }
        }
      ]
    },
    {
      "cell_type": "markdown",
      "metadata": {
        "id": "if6uNgl2jETt"
      },
      "source": [
        "## Adult"
      ]
    },
    {
      "cell_type": "code",
      "metadata": {
        "id": "YLA7qjNtjKv2",
        "colab": {
          "base_uri": "https://localhost:8080/",
          "height": 463
        },
        "outputId": "3c0ccb07-30b4-4cb0-b9a5-7a90e5eea94b"
      },
      "source": [
        "!curl -L -o 'adult.data' \"https://archive.ics.uci.edu/ml/machine-learning-databases/adult/adult.data\"\n",
        "df_adult = pd.read_csv(\"/content/adult.data\")\n",
        "df_adult.columns = ['age','workclass','fnlwgt','education','educational-num',\n",
        "                    'marital-status','occupation','relationship','race','gender',\n",
        "                    'capital-gain','capital-loss','hours-per-week','native-country','income']\n",
        "df_adult.head()"
      ],
      "execution_count": null,
      "outputs": [
        {
          "output_type": "stream",
          "text": [
            "  % Total    % Received % Xferd  Average Speed   Time    Time     Time  Current\n",
            "                                 Dload  Upload   Total   Spent    Left  Speed\n",
            "100 3881k  100 3881k    0     0  20.0M      0 --:--:-- --:--:-- --:--:-- 19.9M\n"
          ],
          "name": "stdout"
        },
        {
          "output_type": "execute_result",
          "data": {
            "text/html": [
              "<div>\n",
              "<style scoped>\n",
              "    .dataframe tbody tr th:only-of-type {\n",
              "        vertical-align: middle;\n",
              "    }\n",
              "\n",
              "    .dataframe tbody tr th {\n",
              "        vertical-align: top;\n",
              "    }\n",
              "\n",
              "    .dataframe thead th {\n",
              "        text-align: right;\n",
              "    }\n",
              "</style>\n",
              "<table border=\"1\" class=\"dataframe\">\n",
              "  <thead>\n",
              "    <tr style=\"text-align: right;\">\n",
              "      <th></th>\n",
              "      <th>age</th>\n",
              "      <th>workclass</th>\n",
              "      <th>fnlwgt</th>\n",
              "      <th>education</th>\n",
              "      <th>educational-num</th>\n",
              "      <th>marital-status</th>\n",
              "      <th>occupation</th>\n",
              "      <th>relationship</th>\n",
              "      <th>race</th>\n",
              "      <th>gender</th>\n",
              "      <th>capital-gain</th>\n",
              "      <th>capital-loss</th>\n",
              "      <th>hours-per-week</th>\n",
              "      <th>native-country</th>\n",
              "      <th>income</th>\n",
              "    </tr>\n",
              "  </thead>\n",
              "  <tbody>\n",
              "    <tr>\n",
              "      <th>0</th>\n",
              "      <td>50</td>\n",
              "      <td>Self-emp-not-inc</td>\n",
              "      <td>83311</td>\n",
              "      <td>Bachelors</td>\n",
              "      <td>13</td>\n",
              "      <td>Married-civ-spouse</td>\n",
              "      <td>Exec-managerial</td>\n",
              "      <td>Husband</td>\n",
              "      <td>White</td>\n",
              "      <td>Male</td>\n",
              "      <td>0</td>\n",
              "      <td>0</td>\n",
              "      <td>13</td>\n",
              "      <td>United-States</td>\n",
              "      <td>&lt;=50K</td>\n",
              "    </tr>\n",
              "    <tr>\n",
              "      <th>1</th>\n",
              "      <td>38</td>\n",
              "      <td>Private</td>\n",
              "      <td>215646</td>\n",
              "      <td>HS-grad</td>\n",
              "      <td>9</td>\n",
              "      <td>Divorced</td>\n",
              "      <td>Handlers-cleaners</td>\n",
              "      <td>Not-in-family</td>\n",
              "      <td>White</td>\n",
              "      <td>Male</td>\n",
              "      <td>0</td>\n",
              "      <td>0</td>\n",
              "      <td>40</td>\n",
              "      <td>United-States</td>\n",
              "      <td>&lt;=50K</td>\n",
              "    </tr>\n",
              "    <tr>\n",
              "      <th>2</th>\n",
              "      <td>53</td>\n",
              "      <td>Private</td>\n",
              "      <td>234721</td>\n",
              "      <td>11th</td>\n",
              "      <td>7</td>\n",
              "      <td>Married-civ-spouse</td>\n",
              "      <td>Handlers-cleaners</td>\n",
              "      <td>Husband</td>\n",
              "      <td>Black</td>\n",
              "      <td>Male</td>\n",
              "      <td>0</td>\n",
              "      <td>0</td>\n",
              "      <td>40</td>\n",
              "      <td>United-States</td>\n",
              "      <td>&lt;=50K</td>\n",
              "    </tr>\n",
              "    <tr>\n",
              "      <th>3</th>\n",
              "      <td>28</td>\n",
              "      <td>Private</td>\n",
              "      <td>338409</td>\n",
              "      <td>Bachelors</td>\n",
              "      <td>13</td>\n",
              "      <td>Married-civ-spouse</td>\n",
              "      <td>Prof-specialty</td>\n",
              "      <td>Wife</td>\n",
              "      <td>Black</td>\n",
              "      <td>Female</td>\n",
              "      <td>0</td>\n",
              "      <td>0</td>\n",
              "      <td>40</td>\n",
              "      <td>Cuba</td>\n",
              "      <td>&lt;=50K</td>\n",
              "    </tr>\n",
              "    <tr>\n",
              "      <th>4</th>\n",
              "      <td>37</td>\n",
              "      <td>Private</td>\n",
              "      <td>284582</td>\n",
              "      <td>Masters</td>\n",
              "      <td>14</td>\n",
              "      <td>Married-civ-spouse</td>\n",
              "      <td>Exec-managerial</td>\n",
              "      <td>Wife</td>\n",
              "      <td>White</td>\n",
              "      <td>Female</td>\n",
              "      <td>0</td>\n",
              "      <td>0</td>\n",
              "      <td>40</td>\n",
              "      <td>United-States</td>\n",
              "      <td>&lt;=50K</td>\n",
              "    </tr>\n",
              "  </tbody>\n",
              "</table>\n",
              "</div>"
            ],
            "text/plain": [
              "   age          workclass  fnlwgt  ... hours-per-week  native-country  income\n",
              "0   50   Self-emp-not-inc   83311  ...             13   United-States   <=50K\n",
              "1   38            Private  215646  ...             40   United-States   <=50K\n",
              "2   53            Private  234721  ...             40   United-States   <=50K\n",
              "3   28            Private  338409  ...             40            Cuba   <=50K\n",
              "4   37            Private  284582  ...             40   United-States   <=50K\n",
              "\n",
              "[5 rows x 15 columns]"
            ]
          },
          "metadata": {
            "tags": []
          },
          "execution_count": 22
        }
      ]
    },
    {
      "cell_type": "code",
      "metadata": {
        "id": "Tqx-CpiWeFpf"
      },
      "source": [
        "df_adult.dropna(inplace = True)"
      ],
      "execution_count": null,
      "outputs": []
    },
    {
      "cell_type": "code",
      "metadata": {
        "colab": {
          "base_uri": "https://localhost:8080/"
        },
        "id": "HtNEO-kohiLT",
        "outputId": "1956f74e-c103-4393-9a80-cb8f1e16426a"
      },
      "source": [
        "#Checking Variant Features\n",
        "check = ['workclass','marital-status','occupation','relationship','native-country','race','income']\n",
        "features = {}\n",
        "for _ in check:\n",
        "  features[_] = pd.unique(df_adult[_])\n",
        "features\n",
        "# workclass , marital-status, native-country, income"
      ],
      "execution_count": null,
      "outputs": [
        {
          "output_type": "execute_result",
          "data": {
            "text/plain": [
              "{'income': array([' <=50K', ' >50K'], dtype=object),\n",
              " 'marital-status': array([' Married-civ-spouse', ' Divorced', ' Married-spouse-absent',\n",
              "        ' Never-married', ' Separated', ' Married-AF-spouse', ' Widowed'],\n",
              "       dtype=object),\n",
              " 'native-country': array([' United-States', ' Cuba', ' Jamaica', ' India', ' ?', ' Mexico',\n",
              "        ' South', ' Puerto-Rico', ' Honduras', ' England', ' Canada',\n",
              "        ' Germany', ' Iran', ' Philippines', ' Italy', ' Poland',\n",
              "        ' Columbia', ' Cambodia', ' Thailand', ' Ecuador', ' Laos',\n",
              "        ' Taiwan', ' Haiti', ' Portugal', ' Dominican-Republic',\n",
              "        ' El-Salvador', ' France', ' Guatemala', ' China', ' Japan',\n",
              "        ' Yugoslavia', ' Peru', ' Outlying-US(Guam-USVI-etc)', ' Scotland',\n",
              "        ' Trinadad&Tobago', ' Greece', ' Nicaragua', ' Vietnam', ' Hong',\n",
              "        ' Ireland', ' Hungary', ' Holand-Netherlands'], dtype=object),\n",
              " 'occupation': array([' Exec-managerial', ' Handlers-cleaners', ' Prof-specialty',\n",
              "        ' Other-service', ' Adm-clerical', ' Sales', ' Craft-repair',\n",
              "        ' Transport-moving', ' Farming-fishing', ' Machine-op-inspct',\n",
              "        ' Tech-support', ' ?', ' Protective-serv', ' Armed-Forces',\n",
              "        ' Priv-house-serv'], dtype=object),\n",
              " 'race': array([' White', ' Black', ' Asian-Pac-Islander', ' Amer-Indian-Eskimo',\n",
              "        ' Other'], dtype=object),\n",
              " 'relationship': array([' Husband', ' Not-in-family', ' Wife', ' Own-child', ' Unmarried',\n",
              "        ' Other-relative'], dtype=object),\n",
              " 'workclass': array([' Self-emp-not-inc', ' Private', ' State-gov', ' Federal-gov',\n",
              "        ' Local-gov', ' ?', ' Self-emp-inc', ' Without-pay',\n",
              "        ' Never-worked'], dtype=object)}"
            ]
          },
          "metadata": {
            "tags": []
          },
          "execution_count": 24
        }
      ]
    },
    {
      "cell_type": "code",
      "metadata": {
        "id": "jDwSVG63pOH9"
      },
      "source": [
        "# df_adult.loc[(df_adult.income == ' <=50K'),'income']=0\n",
        "# df_adult.loc[(df_adult.income == ' >50K'),'income']=1\n",
        "# # df_adult.rename(columns={'income': 'income>50k'}, inplace=True)\n",
        "# target_adult = df_adult['income']"
      ],
      "execution_count": null,
      "outputs": []
    },
    {
      "cell_type": "code",
      "metadata": {
        "colab": {
          "base_uri": "https://localhost:8080/",
          "height": 425
        },
        "id": "B1pSzcHPloRZ",
        "outputId": "809bec16-0c40-4b5e-ae4e-00eab248dfb3"
      },
      "source": [
        "adult = df_adult[['age','workclass','educational-num','capital-gain', 'capital-loss','hours-per-week','income']]\n",
        "dummies = pd.get_dummies(df_adult.gender)\n",
        "dummies.rename(columns={' Male': 'male'}, inplace=True)\n",
        "adult = pd.concat([adult,dummies[\"male\"]],axis='columns')\n",
        "\n",
        "for _ in features['workclass']:\n",
        "  idx = int( np.where( features['workclass'] == _)[0] )\n",
        "  df_adult.loc[(df_adult.workclass == _),'workclass'] = idx\n",
        "adult = pd.concat([adult,df_adult[\"workclass\"]],axis='columns')\n",
        "\n",
        "for _ in features['marital-status']:\n",
        "  idx = int( np.where( features['marital-status'] == _)[0] )\n",
        "  df_adult.loc[(df_adult['marital-status'] == _),'marital-status'] = idx\n",
        "adult = pd.concat([adult,df_adult[\"marital-status\"]],axis='columns')\n",
        "\n",
        "for _ in features['native-country']:\n",
        "  idx = int( np.where( features['native-country'] == _)[0] )\n",
        "  df_adult.loc[(df_adult['native-country'] == _),'native-country'] = idx\n",
        "adult = pd.concat([adult,df_adult[\"native-country\"]],axis='columns')\n",
        "\n",
        "adult"
      ],
      "execution_count": null,
      "outputs": [
        {
          "output_type": "execute_result",
          "data": {
            "text/html": [
              "<div>\n",
              "<style scoped>\n",
              "    .dataframe tbody tr th:only-of-type {\n",
              "        vertical-align: middle;\n",
              "    }\n",
              "\n",
              "    .dataframe tbody tr th {\n",
              "        vertical-align: top;\n",
              "    }\n",
              "\n",
              "    .dataframe thead th {\n",
              "        text-align: right;\n",
              "    }\n",
              "</style>\n",
              "<table border=\"1\" class=\"dataframe\">\n",
              "  <thead>\n",
              "    <tr style=\"text-align: right;\">\n",
              "      <th></th>\n",
              "      <th>age</th>\n",
              "      <th>workclass</th>\n",
              "      <th>educational-num</th>\n",
              "      <th>capital-gain</th>\n",
              "      <th>capital-loss</th>\n",
              "      <th>hours-per-week</th>\n",
              "      <th>income</th>\n",
              "      <th>male</th>\n",
              "      <th>workclass</th>\n",
              "      <th>marital-status</th>\n",
              "      <th>native-country</th>\n",
              "    </tr>\n",
              "  </thead>\n",
              "  <tbody>\n",
              "    <tr>\n",
              "      <th>0</th>\n",
              "      <td>50</td>\n",
              "      <td>0</td>\n",
              "      <td>13</td>\n",
              "      <td>0</td>\n",
              "      <td>0</td>\n",
              "      <td>13</td>\n",
              "      <td>&lt;=50K</td>\n",
              "      <td>1</td>\n",
              "      <td>0</td>\n",
              "      <td>0</td>\n",
              "      <td>0</td>\n",
              "    </tr>\n",
              "    <tr>\n",
              "      <th>1</th>\n",
              "      <td>38</td>\n",
              "      <td>1</td>\n",
              "      <td>9</td>\n",
              "      <td>0</td>\n",
              "      <td>0</td>\n",
              "      <td>40</td>\n",
              "      <td>&lt;=50K</td>\n",
              "      <td>1</td>\n",
              "      <td>1</td>\n",
              "      <td>1</td>\n",
              "      <td>0</td>\n",
              "    </tr>\n",
              "    <tr>\n",
              "      <th>2</th>\n",
              "      <td>53</td>\n",
              "      <td>1</td>\n",
              "      <td>7</td>\n",
              "      <td>0</td>\n",
              "      <td>0</td>\n",
              "      <td>40</td>\n",
              "      <td>&lt;=50K</td>\n",
              "      <td>1</td>\n",
              "      <td>1</td>\n",
              "      <td>0</td>\n",
              "      <td>0</td>\n",
              "    </tr>\n",
              "    <tr>\n",
              "      <th>3</th>\n",
              "      <td>28</td>\n",
              "      <td>1</td>\n",
              "      <td>13</td>\n",
              "      <td>0</td>\n",
              "      <td>0</td>\n",
              "      <td>40</td>\n",
              "      <td>&lt;=50K</td>\n",
              "      <td>0</td>\n",
              "      <td>1</td>\n",
              "      <td>0</td>\n",
              "      <td>1</td>\n",
              "    </tr>\n",
              "    <tr>\n",
              "      <th>4</th>\n",
              "      <td>37</td>\n",
              "      <td>1</td>\n",
              "      <td>14</td>\n",
              "      <td>0</td>\n",
              "      <td>0</td>\n",
              "      <td>40</td>\n",
              "      <td>&lt;=50K</td>\n",
              "      <td>0</td>\n",
              "      <td>1</td>\n",
              "      <td>0</td>\n",
              "      <td>0</td>\n",
              "    </tr>\n",
              "    <tr>\n",
              "      <th>...</th>\n",
              "      <td>...</td>\n",
              "      <td>...</td>\n",
              "      <td>...</td>\n",
              "      <td>...</td>\n",
              "      <td>...</td>\n",
              "      <td>...</td>\n",
              "      <td>...</td>\n",
              "      <td>...</td>\n",
              "      <td>...</td>\n",
              "      <td>...</td>\n",
              "      <td>...</td>\n",
              "    </tr>\n",
              "    <tr>\n",
              "      <th>32555</th>\n",
              "      <td>27</td>\n",
              "      <td>1</td>\n",
              "      <td>12</td>\n",
              "      <td>0</td>\n",
              "      <td>0</td>\n",
              "      <td>38</td>\n",
              "      <td>&lt;=50K</td>\n",
              "      <td>0</td>\n",
              "      <td>1</td>\n",
              "      <td>0</td>\n",
              "      <td>0</td>\n",
              "    </tr>\n",
              "    <tr>\n",
              "      <th>32556</th>\n",
              "      <td>40</td>\n",
              "      <td>1</td>\n",
              "      <td>9</td>\n",
              "      <td>0</td>\n",
              "      <td>0</td>\n",
              "      <td>40</td>\n",
              "      <td>&gt;50K</td>\n",
              "      <td>1</td>\n",
              "      <td>1</td>\n",
              "      <td>0</td>\n",
              "      <td>0</td>\n",
              "    </tr>\n",
              "    <tr>\n",
              "      <th>32557</th>\n",
              "      <td>58</td>\n",
              "      <td>1</td>\n",
              "      <td>9</td>\n",
              "      <td>0</td>\n",
              "      <td>0</td>\n",
              "      <td>40</td>\n",
              "      <td>&lt;=50K</td>\n",
              "      <td>0</td>\n",
              "      <td>1</td>\n",
              "      <td>6</td>\n",
              "      <td>0</td>\n",
              "    </tr>\n",
              "    <tr>\n",
              "      <th>32558</th>\n",
              "      <td>22</td>\n",
              "      <td>1</td>\n",
              "      <td>9</td>\n",
              "      <td>0</td>\n",
              "      <td>0</td>\n",
              "      <td>20</td>\n",
              "      <td>&lt;=50K</td>\n",
              "      <td>1</td>\n",
              "      <td>1</td>\n",
              "      <td>3</td>\n",
              "      <td>0</td>\n",
              "    </tr>\n",
              "    <tr>\n",
              "      <th>32559</th>\n",
              "      <td>52</td>\n",
              "      <td>6</td>\n",
              "      <td>9</td>\n",
              "      <td>15024</td>\n",
              "      <td>0</td>\n",
              "      <td>40</td>\n",
              "      <td>&gt;50K</td>\n",
              "      <td>0</td>\n",
              "      <td>6</td>\n",
              "      <td>0</td>\n",
              "      <td>0</td>\n",
              "    </tr>\n",
              "  </tbody>\n",
              "</table>\n",
              "<p>32560 rows × 11 columns</p>\n",
              "</div>"
            ],
            "text/plain": [
              "       age  workclass  educational-num  ...  workclass  marital-status  native-country\n",
              "0       50          0               13  ...          0               0               0\n",
              "1       38          1                9  ...          1               1               0\n",
              "2       53          1                7  ...          1               0               0\n",
              "3       28          1               13  ...          1               0               1\n",
              "4       37          1               14  ...          1               0               0\n",
              "...    ...        ...              ...  ...        ...             ...             ...\n",
              "32555   27          1               12  ...          1               0               0\n",
              "32556   40          1                9  ...          1               0               0\n",
              "32557   58          1                9  ...          1               6               0\n",
              "32558   22          1                9  ...          1               3               0\n",
              "32559   52          6                9  ...          6               0               0\n",
              "\n",
              "[32560 rows x 11 columns]"
            ]
          },
          "metadata": {
            "tags": []
          },
          "execution_count": 29
        }
      ]
    },
    {
      "cell_type": "code",
      "metadata": {
        "id": "gM06YGp8cVxz"
      },
      "source": [
        "adult_sample = adult.sample(frac = 0.01, replace = False, random_state=1)\n",
        "new_target_adult = adult_sample['income']\n",
        "new_adult = adult_sample.drop('income', axis='columns')"
      ],
      "execution_count": null,
      "outputs": []
    },
    {
      "cell_type": "markdown",
      "metadata": {
        "id": "s4aFg9da1RHf"
      },
      "source": [
        "### Test 20%, 30%, 40%"
      ]
    },
    {
      "cell_type": "code",
      "metadata": {
        "colab": {
          "base_uri": "https://localhost:8080/"
        },
        "id": "wxNQOIv92l7J",
        "outputId": "efd856f5-0ba0-4e74-bff4-ab05f8f9764a"
      },
      "source": [
        "nb_adult_20 = clusterNB(new_adult,new_target_adult, 0.2)\n",
        "ptag.br()\n",
        "nb_adult_30 = clusterNB(new_adult,new_target_adult, 0.3)\n",
        "ptag.br()\n",
        "nb_adult_40 = clusterNB(new_adult,new_target_adult, 0.4)"
      ],
      "execution_count": null,
      "outputs": [
        {
          "output_type": "stream",
          "text": [
            "=====[Naive Bayes: test-size 20.0%]=====\n",
            "===========[Confusion Matrix]===========\n",
            "[[52  4]\n",
            " [ 8  2]]\n",
            "============[Accuracy Score]============\n",
            "0.8181818181818182\n",
            "\n",
            "=====[Naive Bayes: test-size 30.0%]=====\n",
            "===========[Confusion Matrix]===========\n",
            "[[76  4]\n",
            " [12  6]]\n",
            "============[Accuracy Score]============\n",
            "0.8367346938775511\n",
            "\n",
            "=====[Naive Bayes: test-size 40.0%]=====\n",
            "===========[Confusion Matrix]===========\n",
            "[[100   5]\n",
            " [ 16  10]]\n",
            "============[Accuracy Score]============\n",
            "0.8396946564885496\n"
          ],
          "name": "stdout"
        }
      ]
    },
    {
      "cell_type": "markdown",
      "metadata": {
        "id": "JfV285D3cuak"
      },
      "source": [
        "### Adult Best Combination Attributes"
      ]
    },
    {
      "cell_type": "code",
      "metadata": {
        "colab": {
          "base_uri": "https://localhost:8080/"
        },
        "id": "RrDlN0XAc4eV",
        "outputId": "404e3412-9af7-47b8-fe28-03f893bf00b5"
      },
      "source": [
        "X_train, X_test, y_train, y_test = train_test_split(new_adult,new_target_adult,test_size=0.4, random_state=0)\n",
        "efs = EFS(GaussianNB(), min_features=1,max_features=4,scoring='accuracy',cv=5)\n",
        "efs.fit(X_train,y_train)\n",
        "print('Akurasi Tertinggi: %.2f' % efs.best_score_)\n",
        "print('Fitur Terbaik:', efs.best_feature_names_)"
      ],
      "execution_count": null,
      "outputs": [
        {
          "output_type": "stream",
          "text": [
            "Features: 385/385"
          ],
          "name": "stderr"
        },
        {
          "output_type": "stream",
          "text": [
            "Akurasi Tertinggi: 0.87\n",
            "Fitur Terbaik: ('age', 'educational-num', 'hours-per-week', 'male')\n"
          ],
          "name": "stdout"
        }
      ]
    },
    {
      "cell_type": "code",
      "metadata": {
        "colab": {
          "base_uri": "https://localhost:8080/",
          "height": 622
        },
        "id": "Frj7dHcKyAzf",
        "outputId": "7ec7539e-b8f4-4812-be8b-2cb73d50e23c"
      },
      "source": [
        "nb_adult_best = clusterNB(new_adult[['age', 'educational-num', 'capital-loss', 'marital-status']], new_target_adult, 0.4)\n",
        "visualizeModel(nb_adult_best[\"x_train\"], nb_adult_best[\"x_test\"], ['age','educational-num'])\n",
        "visualizeModel(nb_adult_best[\"x_train\"], nb_adult_best[\"x_test\"], ['capital-loss','marital-status'])"
      ],
      "execution_count": null,
      "outputs": [
        {
          "output_type": "stream",
          "text": [
            "=====[Naive Bayes: test-size 40.0%]=====\n",
            "===========[Confusion Matrix]===========\n",
            "[[95 10]\n",
            " [ 6 20]]\n",
            "============[Accuracy Score]============\n",
            "0.8778625954198473\n"
          ],
          "name": "stdout"
        },
        {
          "output_type": "display_data",
          "data": {
            "image/png": "[encoded data removed]",
            "text/plain": [
              "<Figure size 432x288 with 1 Axes>"
            ]
          },
          "metadata": {
            "tags": [],
            "needs_background": "light"
          }
        },
        {
          "output_type": "display_data",
          "data": {
            "image/png": "[encoded data removed]",
            "text/plain": [
              "<Figure size 432x288 with 1 Axes>"
            ]
          },
          "metadata": {
            "tags": [],
            "needs_background": "light"
          }
        }
      ]
    }
  ]
}